{
 "cells": [
  {
   "cell_type": "markdown",
   "id": "3120c4df",
   "metadata": {},
   "source": [
    "Import the required packages with their customary aliases"
   ]
  },
  {
   "cell_type": "code",
   "execution_count": 1,
   "id": "7e6f3998",
   "metadata": {},
   "outputs": [],
   "source": [
    "import pandas as pd\n",
    "import numpy as np\n",
    "import matplotlib.pyplot as plt\n",
    "import seaborn as sns\n",
    "%matplotlib inline"
   ]
  },
  {
   "cell_type": "markdown",
   "id": "406b3973",
   "metadata": {},
   "source": [
    "Use pandas to read csv file and set as dataframe gdp_df"
   ]
  },
  {
   "cell_type": "code",
   "execution_count": 62,
   "id": "e25c00cc",
   "metadata": {},
   "outputs": [],
   "source": [
    "gdp_df = pd.read_csv('gdp_percapita.csv', nrows=6868)"
   ]
  },
  {
   "cell_type": "markdown",
   "id": "ed2b0853",
   "metadata": {},
   "source": [
    "Print first 6 rows"
   ]
  },
  {
   "cell_type": "code",
   "execution_count": 51,
   "id": "0673aaec",
   "metadata": {},
   "outputs": [
    {
     "name": "stdout",
     "output_type": "stream",
     "text": [
      "  Country or Area  Year        Value  Value Footnotes\n",
      "0     Afghanistan  2019  2065.036398              NaN\n",
      "1     Afghanistan  2018  2033.779002              NaN\n",
      "2     Afghanistan  2017  2058.383832              NaN\n",
      "3     Afghanistan  2016  2057.062164              NaN\n",
      "4     Afghanistan  2015  2068.265904              NaN\n",
      "5     Afghanistan  2014  2102.385234              NaN\n"
     ]
    }
   ],
   "source": [
    "print(gdp_df.head(6))"
   ]
  },
  {
   "cell_type": "markdown",
   "id": "d5f83bfb",
   "metadata": {},
   "source": [
    "Repeat for the internet use dataset"
   ]
  },
  {
   "cell_type": "code",
   "execution_count": 63,
   "id": "03fc55af",
   "metadata": {},
   "outputs": [
    {
     "name": "stdout",
     "output_type": "stream",
     "text": [
      "  Country or Area  Year     Value  Value Footnotes\n",
      "0     Afghanistan  2014  6.390000              NaN\n",
      "1     Afghanistan  2013  5.900000              NaN\n",
      "2     Afghanistan  2012  5.454545              NaN\n",
      "3     Afghanistan  2011  5.000000              NaN\n",
      "4     Afghanistan  2010  4.000000              NaN\n",
      "5     Afghanistan  2009  3.550000              NaN\n"
     ]
    }
   ],
   "source": [
    "internet_df = pd.read_csv('internet_use.csv', nrows=4495)\n",
    "print(internet_df.head(6))"
   ]
  },
  {
   "cell_type": "markdown",
   "id": "6b3dfc37",
   "metadata": {},
   "source": [
    "Look at the shape of each DataFrame - how many rows? How many columns?"
   ]
  },
  {
   "cell_type": "code",
   "execution_count": 53,
   "id": "969c37e4",
   "metadata": {},
   "outputs": [
    {
     "name": "stdout",
     "output_type": "stream",
     "text": [
      "Number of rows gdp 6868\n",
      "Number of columns gdp 4\n",
      "Number of rows internet 4495\n",
      "Number of columns internet 4\n"
     ]
    }
   ],
   "source": [
    "row_count, column_count = gdp_df.shape\n",
    "\n",
    "print(\"Number of rows gdp\", row_count)\n",
    "print(\"Number of columns gdp\", column_count)\n",
    "\n",
    "row_count, column_count = internet_df.shape\n",
    "\n",
    "print(\"Number of rows internet\", row_count)\n",
    "print(\"Number of columns internet\", column_count)"
   ]
  },
  {
   "cell_type": "markdown",
   "id": "3231a636",
   "metadata": {},
   "source": [
    "Take a look at the datatypes for the columns in each DataFrame."
   ]
  },
  {
   "cell_type": "code",
   "execution_count": 54,
   "id": "3d2b776e",
   "metadata": {},
   "outputs": [
    {
     "name": "stdout",
     "output_type": "stream",
     "text": [
      "<class 'pandas.core.frame.DataFrame'>\n",
      "RangeIndex: 6868 entries, 0 to 6867\n",
      "Data columns (total 4 columns):\n",
      " #   Column           Non-Null Count  Dtype  \n",
      "---  ------           --------------  -----  \n",
      " 0   Country or Area  6868 non-null   object \n",
      " 1   Year             6868 non-null   int64  \n",
      " 2   Value            6868 non-null   float64\n",
      " 3   Value Footnotes  1 non-null      float64\n",
      "dtypes: float64(2), int64(1), object(1)\n",
      "memory usage: 214.8+ KB\n",
      "<class 'pandas.core.frame.DataFrame'>\n",
      "RangeIndex: 4495 entries, 0 to 4494\n",
      "Data columns (total 4 columns):\n",
      " #   Column           Non-Null Count  Dtype  \n",
      "---  ------           --------------  -----  \n",
      " 0   Country or Area  4495 non-null   object \n",
      " 1   Year             4495 non-null   int64  \n",
      " 2   Value            4495 non-null   float64\n",
      " 3   Value Footnotes  948 non-null    float64\n",
      "dtypes: float64(2), int64(1), object(1)\n",
      "memory usage: 140.6+ KB\n"
     ]
    }
   ],
   "source": [
    "gdp_df.info()\n",
    "\n",
    "internet_df.info()"
   ]
  },
  {
   "cell_type": "markdown",
   "id": "d0af07de",
   "metadata": {},
   "source": [
    "Take a look at the last 10 rows of each DataFrame in turn."
   ]
  },
  {
   "cell_type": "code",
   "execution_count": 67,
   "id": "1dd970e8",
   "metadata": {
    "scrolled": true
   },
   "outputs": [
    {
     "name": "stdout",
     "output_type": "stream",
     "text": [
      "       Country  Year  GDP_Per_Capita\n",
      "6858  Zimbabwe  1999     3600.849291\n",
      "6859  Zimbabwe  1998     3653.920016\n",
      "6860  Zimbabwe  1997     3580.048793\n",
      "6861  Zimbabwe  1996     3520.430146\n",
      "6862  Zimbabwe  1995     3226.413930\n",
      "6863  Zimbabwe  1994     3263.934978\n",
      "6864  Zimbabwe  1993     3033.504852\n",
      "6865  Zimbabwe  1992     3054.889178\n",
      "6866  Zimbabwe  1991     3426.598094\n",
      "6867  Zimbabwe  1990     3324.348171\n"
     ]
    }
   ],
   "source": [
    "print(gdp_df.tail(10))"
   ]
  },
  {
   "cell_type": "code",
   "execution_count": 56,
   "id": "ea9aa7f5",
   "metadata": {},
   "outputs": [
    {
     "name": "stdout",
     "output_type": "stream",
     "text": [
      "     Country or Area  Year     Value  Value Footnotes\n",
      "4485        Zimbabwe  2002  3.994356              NaN\n",
      "4486        Zimbabwe  2001  0.799846              NaN\n",
      "4487        Zimbabwe  2000  0.401434              NaN\n",
      "4488        Zimbabwe  1999  0.161676              NaN\n",
      "4489        Zimbabwe  1998  0.081648              NaN\n",
      "4490        Zimbabwe  1997  0.033080              NaN\n",
      "4491        Zimbabwe  1996  0.016790              NaN\n",
      "4492        Zimbabwe  1995  0.007684              NaN\n",
      "4493        Zimbabwe  1994  0.001739              NaN\n",
      "4494        Zimbabwe  1990  0.000000              NaN\n"
     ]
    }
   ],
   "source": [
    "print(internet_df.tail(10))"
   ]
  },
  {
   "cell_type": "markdown",
   "id": "8d3b1184",
   "metadata": {},
   "source": [
    "Drop the value footnotes column from both DataFrames. Check that this worked as expected."
   ]
  },
  {
   "cell_type": "code",
   "execution_count": 64,
   "id": "9f0257cb",
   "metadata": {},
   "outputs": [
    {
     "name": "stdout",
     "output_type": "stream",
     "text": [
      "<class 'pandas.core.frame.DataFrame'>\n",
      "RangeIndex: 6868 entries, 0 to 6867\n",
      "Data columns (total 3 columns):\n",
      " #   Column           Non-Null Count  Dtype  \n",
      "---  ------           --------------  -----  \n",
      " 0   Country or Area  6868 non-null   object \n",
      " 1   Year             6868 non-null   int64  \n",
      " 2   Value            6868 non-null   float64\n",
      "dtypes: float64(1), int64(1), object(1)\n",
      "memory usage: 161.1+ KB\n"
     ]
    }
   ],
   "source": [
    "del gdp_df['Value Footnotes']\n",
    "gdp_df.info()"
   ]
  },
  {
   "cell_type": "code",
   "execution_count": 65,
   "id": "259401f1",
   "metadata": {
    "scrolled": true
   },
   "outputs": [
    {
     "name": "stdout",
     "output_type": "stream",
     "text": [
      "<class 'pandas.core.frame.DataFrame'>\n",
      "RangeIndex: 4495 entries, 0 to 4494\n",
      "Data columns (total 3 columns):\n",
      " #   Column           Non-Null Count  Dtype  \n",
      "---  ------           --------------  -----  \n",
      " 0   Country or Area  4495 non-null   object \n",
      " 1   Year             4495 non-null   int64  \n",
      " 2   Value            4495 non-null   float64\n",
      "dtypes: float64(1), int64(1), object(1)\n",
      "memory usage: 105.5+ KB\n"
     ]
    }
   ],
   "source": [
    "del internet_df['Value Footnotes']\n",
    "internet_df.info()"
   ]
  },
  {
   "cell_type": "markdown",
   "id": "36051fb2",
   "metadata": {},
   "source": [
    "Change the columns for the GDP Per Capita DataFrame to ‘Country’, ‘Year’, and ‘GDP_Per_Capita’."
   ]
  },
  {
   "cell_type": "code",
   "execution_count": 66,
   "id": "1ba8f6a0",
   "metadata": {},
   "outputs": [
    {
     "name": "stdout",
     "output_type": "stream",
     "text": [
      "<class 'pandas.core.frame.DataFrame'>\n",
      "RangeIndex: 6868 entries, 0 to 6867\n",
      "Data columns (total 3 columns):\n",
      " #   Column          Non-Null Count  Dtype  \n",
      "---  ------          --------------  -----  \n",
      " 0   Country         6868 non-null   object \n",
      " 1   Year            6868 non-null   int64  \n",
      " 2   GDP_Per_Capita  6868 non-null   float64\n",
      "dtypes: float64(1), int64(1), object(1)\n",
      "memory usage: 161.1+ KB\n"
     ]
    }
   ],
   "source": [
    "gdp_df.rename(columns={'Country of Area': 'Country', 'Value': 'GDP_Per_Capita'}, inplace=True)\n",
    "gdp_df.rename(columns={'Country or Area': 'Country'}, inplace=True)\n",
    "gdp_df.info()"
   ]
  },
  {
   "cell_type": "markdown",
   "id": "93a0d97d",
   "metadata": {},
   "source": [
    "Change the columns for the Internet Users DataFrame to ‘Country’, ‘Year’, and ‘Internet_Users_Pct’."
   ]
  },
  {
   "cell_type": "code",
   "execution_count": 68,
   "id": "6c66e748",
   "metadata": {},
   "outputs": [
    {
     "name": "stdout",
     "output_type": "stream",
     "text": [
      "<class 'pandas.core.frame.DataFrame'>\n",
      "RangeIndex: 4495 entries, 0 to 4494\n",
      "Data columns (total 3 columns):\n",
      " #   Column              Non-Null Count  Dtype  \n",
      "---  ------              --------------  -----  \n",
      " 0   Country             4495 non-null   object \n",
      " 1   Year                4495 non-null   int64  \n",
      " 2   Internet_Users_Pct  4495 non-null   float64\n",
      "dtypes: float64(1), int64(1), object(1)\n",
      "memory usage: 105.5+ KB\n"
     ]
    }
   ],
   "source": [
    "internet_df.rename(columns={'Country of Area': 'Country', 'Value': 'GDP_Per_Capita'}, inplace=True)\n",
    "internet_df.rename(columns={'Country of Area': 'Country', 'GDP_Per_Capita': 'Internet_Users_Pct'}, inplace=True)\n",
    "internet_df.rename(columns={'Country or Area': 'Country'}, inplace=True)\n",
    "internet_df.info()"
   ]
  },
  {
   "cell_type": "markdown",
   "id": "86c27b21",
   "metadata": {},
   "source": [
    "Merge the two DataFrames to one. Merge all rows from each of the two DataFrames. Call the new DataFrame gdp_and_internet_use. Look at the last five rows to make sure the data is clean and as expected."
   ]
  },
  {
   "cell_type": "code",
   "execution_count": 72,
   "id": "74dce120",
   "metadata": {},
   "outputs": [
    {
     "name": "stdout",
     "output_type": "stream",
     "text": [
      "<class 'pandas.core.frame.DataFrame'>\n",
      "Int64Index: 7905 entries, 0 to 7904\n",
      "Data columns (total 4 columns):\n",
      " #   Column              Non-Null Count  Dtype  \n",
      "---  ------              --------------  -----  \n",
      " 0   Country             7905 non-null   object \n",
      " 1   Year                7905 non-null   int64  \n",
      " 2   GDP_Per_Capita      6868 non-null   float64\n",
      " 3   Internet_Users_Pct  4495 non-null   float64\n",
      "dtypes: float64(2), int64(1), object(1)\n",
      "memory usage: 308.8+ KB\n",
      "None\n",
      "     Country  Year  GDP_Per_Capita  Internet_Users_Pct\n",
      "7900   Yemen  1999             NaN            0.056629\n",
      "7901   Yemen  1998             NaN            0.023323\n",
      "7902   Yemen  1997             NaN            0.015025\n",
      "7903   Yemen  1996             NaN            0.000621\n",
      "7904   Yemen  1990             NaN            0.000000\n"
     ]
    }
   ],
   "source": [
    "gdp_and_internet_use = pd.merge(gdp_df, internet_df, how=\"outer\", on=[\"Country\",\"Year\"])\n",
    "print(gdp_and_internet_use.info())\n",
    "print(gdp_and_internet_use.tail(5))"
   ]
  },
  {
   "cell_type": "markdown",
   "id": "4c2ac5fe",
   "metadata": {},
   "source": [
    "Subset the combined DataFrame to keep only the data for 2004, 2009, and 2014. Check that this happened correctly."
   ]
  },
  {
   "cell_type": "code",
   "execution_count": 74,
   "id": "cf42e05e",
   "metadata": {},
   "outputs": [
    {
     "name": "stdout",
     "output_type": "stream",
     "text": [
      "                 Country  Year  GDP_Per_Capita  Internet_Users_Pct\n",
      "5            Afghanistan  2014     2102.385234            6.390000\n",
      "10           Afghanistan  2009     1758.904043            3.550000\n",
      "15           Afghanistan  2004     1200.278256            0.105809\n",
      "23               Albania  2014    11623.866679           60.100000\n",
      "28               Albania  2009    10346.864199           41.200000\n",
      "33               Albania  2004     7604.838002            2.420388\n",
      "53               Algeria  2014    11512.705405           18.090000\n",
      "58               Algeria  2009    10782.361398           11.230000\n",
      "63               Algeria  2004    10058.435939            4.634475\n",
      "83                Angola  2014     8239.828837           21.260000\n",
      "88                Angola  2009     7643.493749            6.000000\n",
      "93                Angola  2004     5593.241537            0.464815\n",
      "113  Antigua and Barbuda  2014    18104.241470           64.000000\n",
      "118  Antigua and Barbuda  2009    20046.839017           42.000000\n",
      "123  Antigua and Barbuda  2004    18745.681534           24.266544\n",
      "143           Arab World  2014    14219.562395                 NaN\n",
      "148           Arab World  2009    13063.094140                 NaN\n",
      "153           Arab World  2004    11742.589407                 NaN\n",
      "173            Argentina  2014    23550.099061           64.700000\n",
      "178            Argentina  2009    21519.892554           34.000000\n",
      "                    Country  Year  GDP_Per_Capita  Internet_Users_Pct\n",
      "7702              Swaziland  2009             NaN            8.940000\n",
      "7707              Swaziland  2004             NaN            3.228685\n",
      "7718                  Syria  2014             NaN           28.090000\n",
      "7723                  Syria  2009             NaN           17.300000\n",
      "7728                  Syria  2004             NaN            4.321594\n",
      "7761     T.F.Y.R. Macedonia  2014             NaN           68.060000\n",
      "7766     T.F.Y.R. Macedonia  2009             NaN           51.770000\n",
      "7771     T.F.Y.R. Macedonia  2004             NaN           24.440000\n",
      "7819              Venezuela  2014             NaN           57.000000\n",
      "7824              Venezuela  2009             NaN           32.700000\n",
      "7829              Venezuela  2004             NaN            8.404470\n",
      "7843               Viet Nam  2014             NaN           48.310000\n",
      "7848               Viet Nam  2009             NaN           26.550000\n",
      "7853               Viet Nam  2004             NaN            7.642409\n",
      "7863  Virgin Islands (U.S.)  2014             NaN           50.070000\n",
      "7868  Virgin Islands (U.S.)  2009             NaN           27.396510\n",
      "7873  Virgin Islands (U.S.)  2004             NaN           27.377009\n",
      "7885                  Yemen  2014             NaN           22.550000\n",
      "7890                  Yemen  2009             NaN            9.960000\n",
      "7895                  Yemen  2004             NaN            0.881223\n"
     ]
    }
   ],
   "source": [
    "gdp_and_internet_use_sub = gdp_and_internet_use[gdp_and_internet_use.Year.isin([2004, 2009, 2014])]\n",
    "print(gdp_and_internet_use_sub.head(20))\n",
    "print(gdp_and_internet_use_sub.tail(20))"
   ]
  },
  {
   "cell_type": "code",
   "execution_count": 76,
   "id": "1318f11e",
   "metadata": {},
   "outputs": [
    {
     "data": {
      "text/html": [
       "<div>\n",
       "<style scoped>\n",
       "    .dataframe tbody tr th:only-of-type {\n",
       "        vertical-align: middle;\n",
       "    }\n",
       "\n",
       "    .dataframe tbody tr th {\n",
       "        vertical-align: top;\n",
       "    }\n",
       "\n",
       "    .dataframe thead th {\n",
       "        text-align: right;\n",
       "    }\n",
       "</style>\n",
       "<table border=\"1\" class=\"dataframe\">\n",
       "  <thead>\n",
       "    <tr style=\"text-align: right;\">\n",
       "      <th></th>\n",
       "      <th>Country</th>\n",
       "      <th>Year</th>\n",
       "      <th>GDP_Per_Capita</th>\n",
       "      <th>Internet_Users_Pct</th>\n",
       "    </tr>\n",
       "  </thead>\n",
       "  <tbody>\n",
       "    <tr>\n",
       "      <th>5</th>\n",
       "      <td>Afghanistan</td>\n",
       "      <td>2014</td>\n",
       "      <td>2102.385234</td>\n",
       "      <td>6.390000</td>\n",
       "    </tr>\n",
       "    <tr>\n",
       "      <th>10</th>\n",
       "      <td>Afghanistan</td>\n",
       "      <td>2009</td>\n",
       "      <td>1758.904043</td>\n",
       "      <td>3.550000</td>\n",
       "    </tr>\n",
       "    <tr>\n",
       "      <th>15</th>\n",
       "      <td>Afghanistan</td>\n",
       "      <td>2004</td>\n",
       "      <td>1200.278256</td>\n",
       "      <td>0.105809</td>\n",
       "    </tr>\n",
       "    <tr>\n",
       "      <th>23</th>\n",
       "      <td>Albania</td>\n",
       "      <td>2014</td>\n",
       "      <td>11623.866679</td>\n",
       "      <td>60.100000</td>\n",
       "    </tr>\n",
       "    <tr>\n",
       "      <th>28</th>\n",
       "      <td>Albania</td>\n",
       "      <td>2009</td>\n",
       "      <td>10346.864199</td>\n",
       "      <td>41.200000</td>\n",
       "    </tr>\n",
       "    <tr>\n",
       "      <th>...</th>\n",
       "      <td>...</td>\n",
       "      <td>...</td>\n",
       "      <td>...</td>\n",
       "      <td>...</td>\n",
       "    </tr>\n",
       "    <tr>\n",
       "      <th>7868</th>\n",
       "      <td>Virgin Islands (U.S.)</td>\n",
       "      <td>2009</td>\n",
       "      <td>NaN</td>\n",
       "      <td>27.396510</td>\n",
       "    </tr>\n",
       "    <tr>\n",
       "      <th>7873</th>\n",
       "      <td>Virgin Islands (U.S.)</td>\n",
       "      <td>2004</td>\n",
       "      <td>NaN</td>\n",
       "      <td>27.377009</td>\n",
       "    </tr>\n",
       "    <tr>\n",
       "      <th>7885</th>\n",
       "      <td>Yemen</td>\n",
       "      <td>2014</td>\n",
       "      <td>NaN</td>\n",
       "      <td>22.550000</td>\n",
       "    </tr>\n",
       "    <tr>\n",
       "      <th>7890</th>\n",
       "      <td>Yemen</td>\n",
       "      <td>2009</td>\n",
       "      <td>NaN</td>\n",
       "      <td>9.960000</td>\n",
       "    </tr>\n",
       "    <tr>\n",
       "      <th>7895</th>\n",
       "      <td>Yemen</td>\n",
       "      <td>2004</td>\n",
       "      <td>NaN</td>\n",
       "      <td>0.881223</td>\n",
       "    </tr>\n",
       "  </tbody>\n",
       "</table>\n",
       "<p>830 rows × 4 columns</p>\n",
       "</div>"
      ],
      "text/plain": [
       "                    Country  Year  GDP_Per_Capita  Internet_Users_Pct\n",
       "5               Afghanistan  2014     2102.385234            6.390000\n",
       "10              Afghanistan  2009     1758.904043            3.550000\n",
       "15              Afghanistan  2004     1200.278256            0.105809\n",
       "23                  Albania  2014    11623.866679           60.100000\n",
       "28                  Albania  2009    10346.864199           41.200000\n",
       "...                     ...   ...             ...                 ...\n",
       "7868  Virgin Islands (U.S.)  2009             NaN           27.396510\n",
       "7873  Virgin Islands (U.S.)  2004             NaN           27.377009\n",
       "7885                  Yemen  2014             NaN           22.550000\n",
       "7890                  Yemen  2009             NaN            9.960000\n",
       "7895                  Yemen  2004             NaN            0.881223\n",
       "\n",
       "[830 rows x 4 columns]"
      ]
     },
     "execution_count": 76,
     "metadata": {},
     "output_type": "execute_result"
    }
   ],
   "source": [
    "gdp_int_04_09_14_3 = gdp_and_internet_use[(gdp_and_internet_use[\"Year\"] == 2004) | (gdp_and_internet_use[\"Year\"] == 2009) | (gdp_and_internet_use[\"Year\"] == 2014)]\n",
    "gdp_int_04_09_14_3"
   ]
  },
  {
   "cell_type": "markdown",
   "id": "aa8bdf3c",
   "metadata": {},
   "source": [
    "Create three new DataFrames, one for 2004, one for 2009, and one for 2014. Give them meaningful names that aren't too long."
   ]
  },
  {
   "cell_type": "code",
   "execution_count": 77,
   "id": "2bcc3960",
   "metadata": {},
   "outputs": [
    {
     "data": {
      "text/html": [
       "<div>\n",
       "<style scoped>\n",
       "    .dataframe tbody tr th:only-of-type {\n",
       "        vertical-align: middle;\n",
       "    }\n",
       "\n",
       "    .dataframe tbody tr th {\n",
       "        vertical-align: top;\n",
       "    }\n",
       "\n",
       "    .dataframe thead th {\n",
       "        text-align: right;\n",
       "    }\n",
       "</style>\n",
       "<table border=\"1\" class=\"dataframe\">\n",
       "  <thead>\n",
       "    <tr style=\"text-align: right;\">\n",
       "      <th></th>\n",
       "      <th>Country</th>\n",
       "      <th>Year</th>\n",
       "      <th>GDP_Per_Capita</th>\n",
       "      <th>Internet_Users_Pct</th>\n",
       "    </tr>\n",
       "  </thead>\n",
       "  <tbody>\n",
       "    <tr>\n",
       "      <th>5</th>\n",
       "      <td>Afghanistan</td>\n",
       "      <td>2014</td>\n",
       "      <td>2102.385234</td>\n",
       "      <td>6.39</td>\n",
       "    </tr>\n",
       "    <tr>\n",
       "      <th>23</th>\n",
       "      <td>Albania</td>\n",
       "      <td>2014</td>\n",
       "      <td>11623.866679</td>\n",
       "      <td>60.10</td>\n",
       "    </tr>\n",
       "    <tr>\n",
       "      <th>53</th>\n",
       "      <td>Algeria</td>\n",
       "      <td>2014</td>\n",
       "      <td>11512.705405</td>\n",
       "      <td>18.09</td>\n",
       "    </tr>\n",
       "    <tr>\n",
       "      <th>83</th>\n",
       "      <td>Angola</td>\n",
       "      <td>2014</td>\n",
       "      <td>8239.828837</td>\n",
       "      <td>21.26</td>\n",
       "    </tr>\n",
       "    <tr>\n",
       "      <th>113</th>\n",
       "      <td>Antigua and Barbuda</td>\n",
       "      <td>2014</td>\n",
       "      <td>18104.241470</td>\n",
       "      <td>64.00</td>\n",
       "    </tr>\n",
       "    <tr>\n",
       "      <th>143</th>\n",
       "      <td>Arab World</td>\n",
       "      <td>2014</td>\n",
       "      <td>14219.562395</td>\n",
       "      <td>NaN</td>\n",
       "    </tr>\n",
       "    <tr>\n",
       "      <th>173</th>\n",
       "      <td>Argentina</td>\n",
       "      <td>2014</td>\n",
       "      <td>23550.099061</td>\n",
       "      <td>64.70</td>\n",
       "    </tr>\n",
       "    <tr>\n",
       "      <th>203</th>\n",
       "      <td>Armenia</td>\n",
       "      <td>2014</td>\n",
       "      <td>11019.838785</td>\n",
       "      <td>46.30</td>\n",
       "    </tr>\n",
       "    <tr>\n",
       "      <th>231</th>\n",
       "      <td>Aruba</td>\n",
       "      <td>2014</td>\n",
       "      <td>35458.608343</td>\n",
       "      <td>83.78</td>\n",
       "    </tr>\n",
       "    <tr>\n",
       "      <th>261</th>\n",
       "      <td>Australia</td>\n",
       "      <td>2014</td>\n",
       "      <td>47436.748390</td>\n",
       "      <td>84.56</td>\n",
       "    </tr>\n",
       "  </tbody>\n",
       "</table>\n",
       "</div>"
      ],
      "text/plain": [
       "                 Country  Year  GDP_Per_Capita  Internet_Users_Pct\n",
       "5            Afghanistan  2014     2102.385234                6.39\n",
       "23               Albania  2014    11623.866679               60.10\n",
       "53               Algeria  2014    11512.705405               18.09\n",
       "83                Angola  2014     8239.828837               21.26\n",
       "113  Antigua and Barbuda  2014    18104.241470               64.00\n",
       "143           Arab World  2014    14219.562395                 NaN\n",
       "173            Argentina  2014    23550.099061               64.70\n",
       "203              Armenia  2014    11019.838785               46.30\n",
       "231                Aruba  2014    35458.608343               83.78\n",
       "261            Australia  2014    47436.748390               84.56"
      ]
     },
     "execution_count": 77,
     "metadata": {},
     "output_type": "execute_result"
    }
   ],
   "source": [
    "gdp_int_2004 = gdp_and_internet_use[gdp_and_internet_use.Year == 2004]\n",
    "gdp_int_2009 = gdp_and_internet_use[gdp_and_internet_use.Year == 2009]\n",
    "gdp_int_2014 = gdp_and_internet_use[gdp_and_internet_use.Year == 2014]\n",
    "gdp_int_2014.head(10)"
   ]
  },
  {
   "cell_type": "markdown",
   "id": "15c8b497",
   "metadata": {},
   "source": [
    "Which country had the highest percentage of internet users in 2014? What was the percentage? (Try typing the first 3 letters of your DataFrame name and hitting the tab key for auto-complete options).\n",
    "\n",
    "      Country  Year  GDP_Per_Capita  Internet_Users_Pct\n",
    "2625  Iceland  2014      49652.1495               98.16"
   ]
  },
  {
   "cell_type": "code",
   "execution_count": 78,
   "id": "9fe8f98b",
   "metadata": {},
   "outputs": [
    {
     "name": "stdout",
     "output_type": "stream",
     "text": [
      "      Country  Year  GDP_Per_Capita  Internet_Users_Pct\n",
      "2625  Iceland  2014      49652.1495               98.16\n"
     ]
    }
   ],
   "source": [
    "print(gdp_int_2014.sort_values(by=['Internet_Users_Pct'], ascending=False).head(1))"
   ]
  },
  {
   "cell_type": "markdown",
   "id": "0e3754ac",
   "metadata": {},
   "source": [
    "Which country had the lowest percentage of internet users in 2014? What was the percentage?\n",
    "\n",
    "Country  Year  GDP_Per_Capita  Internet_Users_Pct\n",
    "7081  Dem. People's Rep. of Korea  2014             NaN                 0.0"
   ]
  },
  {
   "cell_type": "code",
   "execution_count": 79,
   "id": "22d236b0",
   "metadata": {},
   "outputs": [
    {
     "name": "stdout",
     "output_type": "stream",
     "text": [
      "Country               Dem. People's Rep. of Korea\n",
      "Year                                         2014\n",
      "GDP_Per_Capita                                NaN\n",
      "Internet_Users_Pct                            0.0\n",
      "Name: 7079, dtype: object\n"
     ]
    }
   ],
   "source": [
    "print(gdp_int_2014.loc[gdp_int_2014['Internet_Users_Pct'].idxmin()])"
   ]
  },
  {
   "cell_type": "markdown",
   "id": "8e08fa6a",
   "metadata": {},
   "source": [
    "Repeat for 2004 and 2009."
   ]
  },
  {
   "cell_type": "code",
   "execution_count": 80,
   "id": "c7c1794c",
   "metadata": {},
   "outputs": [
    {
     "name": "stdout",
     "output_type": "stream",
     "text": [
      "     Country  Year  GDP_Per_Capita  Internet_Users_Pct\n",
      "6019  Sweden  2004    44496.023401               83.89\n",
      "Country               Dem. People's Rep. of Korea\n",
      "Year                                         2004\n",
      "GDP_Per_Capita                                NaN\n",
      "Internet_Users_Pct                            0.0\n",
      "Name: 7088, dtype: object\n"
     ]
    }
   ],
   "source": [
    "print(gdp_int_2004.sort_values(by=['Internet_Users_Pct'], ascending=False).head(1))\n",
    "print(gdp_int_2004.loc[gdp_int_2004['Internet_Users_Pct'].idxmin()])"
   ]
  },
  {
   "cell_type": "code",
   "execution_count": 81,
   "id": "1adfd464",
   "metadata": {},
   "outputs": [
    {
     "name": "stdout",
     "output_type": "stream",
     "text": [
      "      Country  Year  GDP_Per_Capita  Internet_Users_Pct\n",
      "2630  Iceland  2009    48177.084123                93.0\n",
      "Country               Dem. People's Rep. of Korea\n",
      "Year                                         2009\n",
      "GDP_Per_Capita                                NaN\n",
      "Internet_Users_Pct                            0.0\n",
      "Name: 7083, dtype: object\n"
     ]
    }
   ],
   "source": [
    "print(gdp_int_2009.sort_values(by=['Internet_Users_Pct'], ascending=False).head(1))\n",
    "print(gdp_int_2009.loc[gdp_int_2009['Internet_Users_Pct'].idxmin()])"
   ]
  },
  {
   "cell_type": "markdown",
   "id": "c1966385",
   "metadata": {},
   "source": [
    "Which country had the highest gdp per capita in 2014? What was the gdp per capita?\n",
    "Which country had the lowest gdp per capita in 2014? What was the gdp per capita?\n",
    "\n",
    "         Country  Year  GDP_Per_Capita  Internet_Users_Pct\n",
    "1798  Luxembourg  2014    108760.91603               94.67\n",
    "     Country  Year  GDP_Per_Capita  Internet_Users_Pct\n",
    "540  Burundi  2014      886.235777                1.38"
   ]
  },
  {
   "cell_type": "code",
   "execution_count": 82,
   "id": "356ca7fe",
   "metadata": {
    "scrolled": true
   },
   "outputs": [
    {
     "name": "stdout",
     "output_type": "stream",
     "text": [
      "               Country  Year  GDP_Per_Capita  Internet_Users_Pct\n",
      "3721  Macao SAR, China  2014    156514.13385                 NaN\n",
      "Country               Central African Republic\n",
      "Year                                      2014\n",
      "GDP_Per_Capita                      822.610458\n",
      "Internet_Users_Pct                         NaN\n",
      "Name: 1047, dtype: object\n"
     ]
    }
   ],
   "source": [
    "print(gdp_int_2014.sort_values(by=['GDP_Per_Capita'], ascending=False).head(1))\n",
    "print(gdp_int_2014.loc[gdp_int_2014['GDP_Per_Capita'].idxmin()])"
   ]
  },
  {
   "cell_type": "markdown",
   "id": "06492886",
   "metadata": {},
   "source": [
    "Create some scatterplots:\n",
    "a. 2004 Percent Using the Internet vs GDP Per Capita\n",
    "b. 2009 Percent Using the Internet vs GDP Per Capita\n",
    "c. 2014 Percent Using the Internet vs GDP Per Capita"
   ]
  },
  {
   "cell_type": "code",
   "execution_count": 90,
   "id": "0a30b54a",
   "metadata": {},
   "outputs": [
    {
     "data": {
      "image/png": "[encoded data removed]",
      "text/plain": [
       "<Figure size 432x288 with 1 Axes>"
      ]
     },
     "metadata": {
      "needs_background": "light"
     },
     "output_type": "display_data"
    }
   ],
   "source": [
    "_ = plt.scatter(gdp_int_2004['GDP_Per_Capita'], gdp_int_2004['Internet_Users_Pct'])\n",
    "_ = plt.title('GDP Vs. Internet in 2004')\n",
    "_ = plt.xlabel('GDP Per Capita')\n",
    "_ = plt.ylabel('Internet Users Pct')"
   ]
  },
  {
   "cell_type": "code",
   "execution_count": 91,
   "id": "892cc6ba",
   "metadata": {},
   "outputs": [
    {
     "data": {
      "image/png": "[encoded data removed]",
      "text/plain": [
       "<Figure size 432x288 with 1 Axes>"
      ]
     },
     "metadata": {
      "needs_background": "light"
     },
     "output_type": "display_data"
    }
   ],
   "source": [
    "_ = plt.scatter(gdp_int_2009['GDP_Per_Capita'], gdp_int_2009['Internet_Users_Pct'])\n",
    "_ = plt.title('GDP Vs. Internet in 2009')\n",
    "_ = plt.xlabel('GDP Per Capita')\n",
    "_ = plt.ylabel('Internet Users Pct')"
   ]
  },
  {
   "cell_type": "code",
   "execution_count": 92,
   "id": "6320cbe2",
   "metadata": {},
   "outputs": [
    {
     "data": {
      "image/png": "[encoded data removed]",
      "text/plain": [
       "<Figure size 432x288 with 1 Axes>"
      ]
     },
     "metadata": {
      "needs_background": "light"
     },
     "output_type": "display_data"
    }
   ],
   "source": [
    "_ = plt.scatter(gdp_int_2014['GDP_Per_Capita'], gdp_int_2014['Internet_Users_Pct'])\n",
    "_ = plt.title('GDP Vs. Internet in 2014')\n",
    "_ = plt.xlabel('GDP Per Capita')\n",
    "_ = plt.ylabel('Internet Users Pct')"
   ]
  },
  {
   "cell_type": "markdown",
   "id": "29079b22",
   "metadata": {},
   "source": [
    "Are there differences across years? What do the plots tell you about any relationship between these two variables? Enter your observations as a markdown cell.\n",
    "\n",
    "It appears as the years increase, more contries recieve internet access regardless of their GDP. However, there is still a positive correllation between a country's GDP and their percentage of internet usage."
   ]
  },
  {
   "cell_type": "markdown",
   "id": "85b1992a",
   "metadata": {},
   "source": [
    "Look at the distribution of gdp per capita values for 2014. Is it unimodal?\n",
    "\n",
    "Yes, it is unimodal."
   ]
  },
  {
   "cell_type": "code",
   "execution_count": 24,
   "id": "0bfa7986",
   "metadata": {},
   "outputs": [
    {
     "data": {
      "image/png": "[encoded data removed]",
      "text/plain": [
       "<Figure size 432x288 with 1 Axes>"
      ]
     },
     "metadata": {
      "needs_background": "light"
     },
     "output_type": "display_data"
    }
   ],
   "source": [
    "_ = gdp_int_2014.hist('GDP_Per_Capita', bins = 10)"
   ]
  },
  {
   "cell_type": "markdown",
   "id": "0d836f01",
   "metadata": {},
   "source": [
    "Look at the distribution of Internet Use for 2014. Is it unimodal?\n",
    "\n",
    "No, it is not unimodal"
   ]
  },
  {
   "cell_type": "code",
   "execution_count": 93,
   "id": "3e02487c",
   "metadata": {},
   "outputs": [
    {
     "data": {
      "image/png": "[encoded data removed]",
      "text/plain": [
       "<Figure size 432x288 with 1 Axes>"
      ]
     },
     "metadata": {
      "needs_background": "light"
     },
     "output_type": "display_data"
    }
   ],
   "source": [
    "gdp_int_2014.hist('Internet_Users_Pct', bins = 10);"
   ]
  },
  {
   "cell_type": "markdown",
   "id": "d8983015",
   "metadata": {},
   "source": [
    "What are the top 5 countries in terms of internet use in 2014?\n",
    "\n",
    "         Country  Year  GDP_Per_Capita  Internet_Users_Pct\n",
    "1381     Iceland  2014    49652.149500               98.16\n",
    "372      Bermuda  2014    77361.104881               96.80\n",
    "2296      Norway  2014    62589.373548               96.30\n",
    "854      Denmark  2014    52214.537753               95.99\n",
    "1798  Luxembourg  2014   108760.916030               94.67"
   ]
  },
  {
   "cell_type": "code",
   "execution_count": 94,
   "id": "fb41e48f",
   "metadata": {},
   "outputs": [
    {
     "name": "stdout",
     "output_type": "stream",
     "text": [
      "      Country  Year  GDP_Per_Capita  Internet_Users_Pct\n",
      "2625  Iceland  2014    49652.149500               98.16\n",
      "561   Bermuda  2014    77361.104881               96.80\n",
      "4648   Norway  2014    62589.373548               96.30\n",
      "1452  Denmark  2014    52214.537753               95.99\n",
      "6871  Andorra  2014             NaN               95.90\n"
     ]
    }
   ],
   "source": [
    "print(gdp_int_2014.sort_values(by=['Internet_Users_Pct'], ascending=False).head(5))"
   ]
  },
  {
   "cell_type": "markdown",
   "id": "6823aeb7",
   "metadata": {},
   "source": [
    "Create a DataFrame called top_5_internet from the combined DataFrame that has all three years for the 5 countries that had the greatest 2014 internet usage. You should have 15 rows. Check that this is true."
   ]
  },
  {
   "cell_type": "code",
   "execution_count": 99,
   "id": "4a55a9fc",
   "metadata": {},
   "outputs": [
    {
     "data": {
      "text/html": [
       "<div>\n",
       "<style scoped>\n",
       "    .dataframe tbody tr th:only-of-type {\n",
       "        vertical-align: middle;\n",
       "    }\n",
       "\n",
       "    .dataframe tbody tr th {\n",
       "        vertical-align: top;\n",
       "    }\n",
       "\n",
       "    .dataframe thead th {\n",
       "        text-align: right;\n",
       "    }\n",
       "</style>\n",
       "<table border=\"1\" class=\"dataframe\">\n",
       "  <thead>\n",
       "    <tr style=\"text-align: right;\">\n",
       "      <th></th>\n",
       "      <th>Country</th>\n",
       "      <th>Year</th>\n",
       "      <th>GDP_Per_Capita</th>\n",
       "      <th>Internet_Users_Pct</th>\n",
       "    </tr>\n",
       "  </thead>\n",
       "  <tbody>\n",
       "    <tr>\n",
       "      <th>561</th>\n",
       "      <td>Bermuda</td>\n",
       "      <td>2014</td>\n",
       "      <td>77361.104881</td>\n",
       "      <td>96.800000</td>\n",
       "    </tr>\n",
       "    <tr>\n",
       "      <th>566</th>\n",
       "      <td>Bermuda</td>\n",
       "      <td>2009</td>\n",
       "      <td>89961.982744</td>\n",
       "      <td>83.250000</td>\n",
       "    </tr>\n",
       "    <tr>\n",
       "      <th>571</th>\n",
       "      <td>Bermuda</td>\n",
       "      <td>2004</td>\n",
       "      <td>90195.811033</td>\n",
       "      <td>60.990867</td>\n",
       "    </tr>\n",
       "    <tr>\n",
       "      <th>1452</th>\n",
       "      <td>Denmark</td>\n",
       "      <td>2014</td>\n",
       "      <td>52214.537753</td>\n",
       "      <td>95.990000</td>\n",
       "    </tr>\n",
       "    <tr>\n",
       "      <th>1457</th>\n",
       "      <td>Denmark</td>\n",
       "      <td>2009</td>\n",
       "      <td>50274.075696</td>\n",
       "      <td>86.840000</td>\n",
       "    </tr>\n",
       "    <tr>\n",
       "      <th>1462</th>\n",
       "      <td>Denmark</td>\n",
       "      <td>2004</td>\n",
       "      <td>50607.628971</td>\n",
       "      <td>80.930000</td>\n",
       "    </tr>\n",
       "    <tr>\n",
       "      <th>2625</th>\n",
       "      <td>Iceland</td>\n",
       "      <td>2014</td>\n",
       "      <td>49652.149500</td>\n",
       "      <td>98.160000</td>\n",
       "    </tr>\n",
       "    <tr>\n",
       "      <th>2630</th>\n",
       "      <td>Iceland</td>\n",
       "      <td>2009</td>\n",
       "      <td>48177.084123</td>\n",
       "      <td>93.000000</td>\n",
       "    </tr>\n",
       "    <tr>\n",
       "      <th>2635</th>\n",
       "      <td>Iceland</td>\n",
       "      <td>2004</td>\n",
       "      <td>45145.545658</td>\n",
       "      <td>83.880000</td>\n",
       "    </tr>\n",
       "    <tr>\n",
       "      <th>4648</th>\n",
       "      <td>Norway</td>\n",
       "      <td>2014</td>\n",
       "      <td>62589.373548</td>\n",
       "      <td>96.300000</td>\n",
       "    </tr>\n",
       "    <tr>\n",
       "      <th>4653</th>\n",
       "      <td>Norway</td>\n",
       "      <td>2009</td>\n",
       "      <td>61886.564498</td>\n",
       "      <td>92.080000</td>\n",
       "    </tr>\n",
       "    <tr>\n",
       "      <th>4658</th>\n",
       "      <td>Norway</td>\n",
       "      <td>2004</td>\n",
       "      <td>60893.410993</td>\n",
       "      <td>77.690000</td>\n",
       "    </tr>\n",
       "    <tr>\n",
       "      <th>6871</th>\n",
       "      <td>Andorra</td>\n",
       "      <td>2014</td>\n",
       "      <td>NaN</td>\n",
       "      <td>95.900000</td>\n",
       "    </tr>\n",
       "    <tr>\n",
       "      <th>6876</th>\n",
       "      <td>Andorra</td>\n",
       "      <td>2009</td>\n",
       "      <td>NaN</td>\n",
       "      <td>78.530000</td>\n",
       "    </tr>\n",
       "    <tr>\n",
       "      <th>6881</th>\n",
       "      <td>Andorra</td>\n",
       "      <td>2004</td>\n",
       "      <td>NaN</td>\n",
       "      <td>26.837954</td>\n",
       "    </tr>\n",
       "  </tbody>\n",
       "</table>\n",
       "</div>"
      ],
      "text/plain": [
       "      Country  Year  GDP_Per_Capita  Internet_Users_Pct\n",
       "561   Bermuda  2014    77361.104881           96.800000\n",
       "566   Bermuda  2009    89961.982744           83.250000\n",
       "571   Bermuda  2004    90195.811033           60.990867\n",
       "1452  Denmark  2014    52214.537753           95.990000\n",
       "1457  Denmark  2009    50274.075696           86.840000\n",
       "1462  Denmark  2004    50607.628971           80.930000\n",
       "2625  Iceland  2014    49652.149500           98.160000\n",
       "2630  Iceland  2009    48177.084123           93.000000\n",
       "2635  Iceland  2004    45145.545658           83.880000\n",
       "4648   Norway  2014    62589.373548           96.300000\n",
       "4653   Norway  2009    61886.564498           92.080000\n",
       "4658   Norway  2004    60893.410993           77.690000\n",
       "6871  Andorra  2014             NaN           95.900000\n",
       "6876  Andorra  2009             NaN           78.530000\n",
       "6881  Andorra  2004             NaN           26.837954"
      ]
     },
     "execution_count": 99,
     "metadata": {},
     "output_type": "execute_result"
    }
   ],
   "source": [
    "filter_list_2 = ['Iceland', 'Bermuda', 'Norway', 'Denmark', 'Andorra']\n",
    "top_5_internet = gdp_and_internet_use_sub[gdp_and_internet_use_sub['Country'].isin(filter_list_2)]\n",
    "top_5_internet"
   ]
  },
  {
   "cell_type": "markdown",
   "id": "46eb797b",
   "metadata": {},
   "source": [
    "Create a seaborn FacetGrid to show the internet usage trend across the years 2004, 2009, and 2014 for these 5 countries (those with the highest reported internet use in 2014). Which country had the greatest growth between 2004 and 2014?\n",
    "\n",
    "Answer: Andorra"
   ]
  },
  {
   "cell_type": "code",
   "execution_count": 96,
   "id": "c62846f4",
   "metadata": {},
   "outputs": [
    {
     "data": {
      "image/png": "[encoded data removed]",
      "text/plain": [
       "<Figure size 1080x216 with 5 Axes>"
      ]
     },
     "metadata": {
      "needs_background": "light"
     },
     "output_type": "display_data"
    }
   ],
   "source": [
    "graph = sns.FacetGrid(top_5_internet, col =\"Country\")\n",
    "_ = graph.map(plt.plot, 'Year', 'Internet_Users_Pct')"
   ]
  },
  {
   "cell_type": "markdown",
   "id": "1c40a330",
   "metadata": {},
   "source": [
    "Repeat the steps above to look at the trend for the 5 countries with the lowest 2014 internet usage. Which country has consistently had the least internet use?\n",
    "\n",
    "Answer: Dem. People's Rep. of Korea"
   ]
  },
  {
   "cell_type": "code",
   "execution_count": 100,
   "id": "a99c6d8e",
   "metadata": {},
   "outputs": [
    {
     "name": "stdout",
     "output_type": "stream",
     "text": [
      "7079    Dem. People's Rep. of Korea\n",
      "7137                        Eritrea\n",
      "6219                    Timor-Leste\n",
      "827                         Burundi\n",
      "7674                        Somalia\n",
      "Name: Country, dtype: object\n"
     ]
    }
   ],
   "source": [
    "print(gdp_int_2014.nsmallest(5, 'Internet_Users_Pct')['Country'])"
   ]
  },
  {
   "cell_type": "code",
   "execution_count": 98,
   "id": "9e4c9ab9",
   "metadata": {},
   "outputs": [
    {
     "data": {
      "text/html": [
       "<div>\n",
       "<style scoped>\n",
       "    .dataframe tbody tr th:only-of-type {\n",
       "        vertical-align: middle;\n",
       "    }\n",
       "\n",
       "    .dataframe tbody tr th {\n",
       "        vertical-align: top;\n",
       "    }\n",
       "\n",
       "    .dataframe thead th {\n",
       "        text-align: right;\n",
       "    }\n",
       "</style>\n",
       "<table border=\"1\" class=\"dataframe\">\n",
       "  <thead>\n",
       "    <tr style=\"text-align: right;\">\n",
       "      <th></th>\n",
       "      <th>Country</th>\n",
       "      <th>Year</th>\n",
       "      <th>GDP_Per_Capita</th>\n",
       "      <th>Internet_Users_Pct</th>\n",
       "    </tr>\n",
       "  </thead>\n",
       "  <tbody>\n",
       "    <tr>\n",
       "      <th>827</th>\n",
       "      <td>Burundi</td>\n",
       "      <td>2014</td>\n",
       "      <td>886.235777</td>\n",
       "      <td>1.380000</td>\n",
       "    </tr>\n",
       "    <tr>\n",
       "      <th>832</th>\n",
       "      <td>Burundi</td>\n",
       "      <td>2009</td>\n",
       "      <td>831.564131</td>\n",
       "      <td>0.900000</td>\n",
       "    </tr>\n",
       "    <tr>\n",
       "      <th>837</th>\n",
       "      <td>Burundi</td>\n",
       "      <td>2004</td>\n",
       "      <td>817.460585</td>\n",
       "      <td>0.349060</td>\n",
       "    </tr>\n",
       "    <tr>\n",
       "      <th>6219</th>\n",
       "      <td>Timor-Leste</td>\n",
       "      <td>2014</td>\n",
       "      <td>3264.568070</td>\n",
       "      <td>1.140000</td>\n",
       "    </tr>\n",
       "    <tr>\n",
       "      <th>6224</th>\n",
       "      <td>Timor-Leste</td>\n",
       "      <td>2009</td>\n",
       "      <td>2724.770973</td>\n",
       "      <td>0.185252</td>\n",
       "    </tr>\n",
       "    <tr>\n",
       "      <th>6229</th>\n",
       "      <td>Timor-Leste</td>\n",
       "      <td>2004</td>\n",
       "      <td>2258.608056</td>\n",
       "      <td>NaN</td>\n",
       "    </tr>\n",
       "    <tr>\n",
       "      <th>7079</th>\n",
       "      <td>Dem. People's Rep. of Korea</td>\n",
       "      <td>2014</td>\n",
       "      <td>NaN</td>\n",
       "      <td>0.000000</td>\n",
       "    </tr>\n",
       "    <tr>\n",
       "      <th>7083</th>\n",
       "      <td>Dem. People's Rep. of Korea</td>\n",
       "      <td>2009</td>\n",
       "      <td>NaN</td>\n",
       "      <td>0.000000</td>\n",
       "    </tr>\n",
       "    <tr>\n",
       "      <th>7088</th>\n",
       "      <td>Dem. People's Rep. of Korea</td>\n",
       "      <td>2004</td>\n",
       "      <td>NaN</td>\n",
       "      <td>0.000000</td>\n",
       "    </tr>\n",
       "    <tr>\n",
       "      <th>7137</th>\n",
       "      <td>Eritrea</td>\n",
       "      <td>2014</td>\n",
       "      <td>NaN</td>\n",
       "      <td>0.990000</td>\n",
       "    </tr>\n",
       "    <tr>\n",
       "      <th>7142</th>\n",
       "      <td>Eritrea</td>\n",
       "      <td>2009</td>\n",
       "      <td>NaN</td>\n",
       "      <td>0.540000</td>\n",
       "    </tr>\n",
       "    <tr>\n",
       "      <th>7674</th>\n",
       "      <td>Somalia</td>\n",
       "      <td>2014</td>\n",
       "      <td>NaN</td>\n",
       "      <td>1.630000</td>\n",
       "    </tr>\n",
       "    <tr>\n",
       "      <th>7678</th>\n",
       "      <td>Somalia</td>\n",
       "      <td>2009</td>\n",
       "      <td>NaN</td>\n",
       "      <td>1.160611</td>\n",
       "    </tr>\n",
       "    <tr>\n",
       "      <th>7683</th>\n",
       "      <td>Somalia</td>\n",
       "      <td>2004</td>\n",
       "      <td>NaN</td>\n",
       "      <td>1.053455</td>\n",
       "    </tr>\n",
       "  </tbody>\n",
       "</table>\n",
       "</div>"
      ],
      "text/plain": [
       "                          Country  Year  GDP_Per_Capita  Internet_Users_Pct\n",
       "827                       Burundi  2014      886.235777            1.380000\n",
       "832                       Burundi  2009      831.564131            0.900000\n",
       "837                       Burundi  2004      817.460585            0.349060\n",
       "6219                  Timor-Leste  2014     3264.568070            1.140000\n",
       "6224                  Timor-Leste  2009     2724.770973            0.185252\n",
       "6229                  Timor-Leste  2004     2258.608056                 NaN\n",
       "7079  Dem. People's Rep. of Korea  2014             NaN            0.000000\n",
       "7083  Dem. People's Rep. of Korea  2009             NaN            0.000000\n",
       "7088  Dem. People's Rep. of Korea  2004             NaN            0.000000\n",
       "7137                      Eritrea  2014             NaN            0.990000\n",
       "7142                      Eritrea  2009             NaN            0.540000\n",
       "7674                      Somalia  2014             NaN            1.630000\n",
       "7678                      Somalia  2009             NaN            1.160611\n",
       "7683                      Somalia  2004             NaN            1.053455"
      ]
     },
     "execution_count": 98,
     "metadata": {},
     "output_type": "execute_result"
    }
   ],
   "source": [
    "filter_list_3 = ['Timor-Leste', 'Burundi', 'Eritrea', 'Somalia', \"Dem. People's Rep. of Korea\"]\n",
    "bottom_5_internet = gdp_and_internet_use_sub[gdp_and_internet_use_sub['Country'].isin(filter_list_3)]\n",
    "bottom_5_internet"
   ]
  },
  {
   "cell_type": "code",
   "execution_count": 101,
   "id": "8e7c4728",
   "metadata": {},
   "outputs": [
    {
     "data": {
      "image/png": "[encoded data removed]",
      "text/plain": [
       "<Figure size 1080x216 with 5 Axes>"
      ]
     },
     "metadata": {
      "needs_background": "light"
     },
     "output_type": "display_data"
    }
   ],
   "source": [
    "graph_2 = sns.FacetGrid(bottom_5_internet, col =\"Country\")\n",
    "_ = graph_2.map(plt.plot, 'Year', 'Internet_Users_Pct')"
   ]
  },
  {
   "cell_type": "markdown",
   "id": "e3fd4aff",
   "metadata": {},
   "source": [
    "Find the top 5 countries for 2014 in terms of GDP per capita; create a DataFrame to look at 10-year trends (use 2004, 2009, 2014 to look at the 10-year trend) in gdp per capita for the 5 countries with the highest 2014 GDP per capita. Use a seaborn facet grid for this."
   ]
  },
  {
   "cell_type": "code",
   "execution_count": 32,
   "id": "94ade0ba",
   "metadata": {},
   "outputs": [
    {
     "name": "stdout",
     "output_type": "stream",
     "text": [
      "               Country  Year  GDP_Per_Capita  Internet_Users_Pct\n",
      "3721  Macao SAR, China  2014   156514.133850                 NaN\n",
      "3691        Luxembourg  2014   108760.916030               94.67\n",
      "5138             Qatar  2014    95578.416973               91.49\n",
      "5464         Singapore  2014    87808.663157               82.00\n",
      "561            Bermuda  2014    77361.104881               96.80\n"
     ]
    }
   ],
   "source": [
    "print(gdp_int_2014.sort_values(by=['GDP_Per_Capita'], ascending=False).head(5))"
   ]
  },
  {
   "cell_type": "code",
   "execution_count": 33,
   "id": "86aa13e0",
   "metadata": {},
   "outputs": [
    {
     "name": "stdout",
     "output_type": "stream",
     "text": [
      "               Country  Year  GDP_Per_Capita  Internet_Users_Pct\n",
      "561            Bermuda  2014    77361.104881           96.800000\n",
      "566            Bermuda  2009    89961.982744           83.250000\n",
      "571            Bermuda  2004    90195.811033           60.990867\n",
      "3691        Luxembourg  2014   108760.916030           94.670000\n",
      "3696        Luxembourg  2009   104932.811953           87.310000\n",
      "3701        Luxembourg  2004   102708.212547           65.880000\n",
      "3721  Macao SAR, China  2014   156514.133850                 NaN\n",
      "3726  Macao SAR, China  2009    95939.340822                 NaN\n",
      "3731  Macao SAR, China  2004    72944.409424                 NaN\n",
      "5138             Qatar  2014    95578.416973           91.490000\n",
      "5143             Qatar  2009    89954.519993           53.100000\n",
      "5148             Qatar  2004    93748.301216           20.701648\n",
      "5464         Singapore  2014    87808.663157           82.000000\n",
      "5469         Singapore  2009    69466.581746           69.000000\n",
      "5474         Singapore  2004    63901.716368           62.000000\n"
     ]
    }
   ],
   "source": [
    "filter_list_4 = ['Luxembourg', 'Qatar', 'Singapore', 'Bermuda', 'Macao SAR, China']\n",
    "top_5_GDP = gdp_and_internet_use_sub[gdp_and_internet_use_sub['Country'].isin(filter_list_4)]\n",
    "print(top_5_GDP)"
   ]
  },
  {
   "cell_type": "code",
   "execution_count": 34,
   "id": "af919353",
   "metadata": {},
   "outputs": [
    {
     "data": {
      "text/plain": [
       "<seaborn.axisgrid.FacetGrid at 0x1c54c8eb640>"
      ]
     },
     "execution_count": 34,
     "metadata": {},
     "output_type": "execute_result"
    },
    {
     "data": {
      "image/png": "[encoded data removed]",
      "text/plain": [
       "<Figure size 1080x216 with 5 Axes>"
      ]
     },
     "metadata": {
      "needs_background": "light"
     },
     "output_type": "display_data"
    }
   ],
   "source": [
    "graph_2 = sns.FacetGrid(top_5_GDP, col =\"Country\")\n",
    "graph_2.map(plt.plot, 'Year', 'GDP_Per_Capita')"
   ]
  },
  {
   "cell_type": "markdown",
   "id": "16336596",
   "metadata": {},
   "source": [
    "Repeat this one more time to look at 10-year trend for the 5 countries for 2014 with the lowest GDP per capita."
   ]
  },
  {
   "cell_type": "code",
   "execution_count": 102,
   "id": "efe4fb5e",
   "metadata": {},
   "outputs": [
    {
     "name": "stdout",
     "output_type": "stream",
     "text": [
      "1047    Central African Republic\n",
      "827                      Burundi\n",
      "3781                      Malawi\n",
      "1422             Dem. Rep. Congo\n",
      "4528                       Niger\n",
      "Name: Country, dtype: object\n"
     ]
    }
   ],
   "source": [
    "print(gdp_int_2014.nsmallest(5, 'GDP_Per_Capita')['Country'])"
   ]
  },
  {
   "cell_type": "code",
   "execution_count": 103,
   "id": "627abcf4",
   "metadata": {},
   "outputs": [
    {
     "name": "stdout",
     "output_type": "stream",
     "text": [
      "                       Country  Year  GDP_Per_Capita  Internet_Users_Pct\n",
      "827                    Burundi  2014      886.235777            1.380000\n",
      "832                    Burundi  2009      831.564131            0.900000\n",
      "837                    Burundi  2004      817.460585            0.349060\n",
      "1047  Central African Republic  2014      822.610458                 NaN\n",
      "1052  Central African Republic  2009     1161.189475                 NaN\n",
      "1057  Central African Republic  2004     1037.846766                 NaN\n",
      "1422           Dem. Rep. Congo  2014     1029.790785                 NaN\n",
      "1427           Dem. Rep. Congo  2009      835.611696                 NaN\n",
      "1432           Dem. Rep. Congo  2004      757.685942                 NaN\n",
      "3781                    Malawi  2014     1027.208496            5.830000\n",
      "3786                    Malawi  2009      932.867635            1.070000\n",
      "3791                    Malawi  2004      775.346132            0.347505\n",
      "4528                     Niger  2014     1127.615541            1.950000\n",
      "4533                     Niger  2009      992.409977            0.760000\n",
      "4538                     Niger  2004      929.883920            0.189934\n"
     ]
    }
   ],
   "source": [
    "filter_list_5 = ['Burundi', 'Malawi', 'Niger', 'Dem. Rep. Congo', 'Central African Republic']\n",
    "bottom_5_GDP = gdp_and_internet_use_sub[gdp_and_internet_use_sub['Country'].isin(filter_list_5)]\n",
    "print(bottom_5_GDP)"
   ]
  },
  {
   "cell_type": "code",
   "execution_count": 104,
   "id": "6db4f56f",
   "metadata": {},
   "outputs": [
    {
     "data": {
      "image/png": "[encoded data removed]",
      "text/plain": [
       "<Figure size 1080x216 with 5 Axes>"
      ]
     },
     "metadata": {
      "needs_background": "light"
     },
     "output_type": "display_data"
    }
   ],
   "source": [
    "graph_2 = sns.FacetGrid(bottom_5_GDP, col =\"Country\")\n",
    "graph_2.map(plt.plot, 'Year', 'GDP_Per_Capita');"
   ]
  },
  {
   "cell_type": "markdown",
   "id": "7772f4fb",
   "metadata": {},
   "source": [
    "Is there anything surprising or unusual in any of these plots? Searching on the internet, can you find any possible explanations for unusual findings?\n",
    "\n",
    "There's no internet use data for Timor-Leste in 2004. When I looked it up, it looks like no one there had internet usage until 2005. Apparently when they gained independence from India, india pulled their telecommunications services.\n",
    "\n",
    "GDP in the Cayman Islands decreased from 2009 to 2014.b The only thing I can really find contributing to that is that it is considered an offshore financial centers and when Barack Obama took office, he aimed to cut down on American multinational companies."
   ]
  },
  {
   "cell_type": "markdown",
   "id": "255ec193",
   "metadata": {},
   "source": [
    "Download another data set from the UN data (http://data.un.org/Explorer.aspx) to merge with your data and explore."
   ]
  },
  {
   "cell_type": "code",
   "execution_count": 109,
   "id": "bdd79a31",
   "metadata": {},
   "outputs": [
    {
     "name": "stdout",
     "output_type": "stream",
     "text": [
      "   Country or Area  Year(s)      GENDER  Value  Value Footnotes\n",
      "0      Afghanistan     2012        Male     58              NaN\n",
      "1      Afghanistan     2012      Female     61              NaN\n",
      "2      Afghanistan     2012  Both sexes     60              NaN\n",
      "3      Afghanistan     2000        Male     54              NaN\n",
      "4      Afghanistan     2000      Female     56              NaN\n",
      "5      Afghanistan     2000  Both sexes     55              NaN\n",
      "6      Afghanistan     1990        Male     49              NaN\n",
      "7      Afghanistan     1990      Female     50              NaN\n",
      "8      Afghanistan     1990  Both sexes     49              NaN\n",
      "9          Albania     2012        Male     73              NaN\n",
      "10         Albania     2012      Female     75              NaN\n",
      "11         Albania     2012  Both sexes     74              NaN\n",
      "12         Albania     2000        Male     68              NaN\n",
      "13         Albania     2000      Female     73              NaN\n",
      "14         Albania     2000  Both sexes     70              NaN\n",
      "15         Albania     1990        Male     67              NaN\n",
      "16         Albania     1990      Female     71              NaN\n",
      "17         Albania     1990  Both sexes     69              NaN\n",
      "18         Algeria     2012        Male     70              NaN\n",
      "19         Algeria     2012      Female     73              NaN\n"
     ]
    }
   ],
   "source": [
    "life_exp_df = pd.read_csv('life_exp.csv')\n",
    "print(life_exp_df.head(20))"
   ]
  },
  {
   "cell_type": "code",
   "execution_count": 110,
   "id": "3a57cf76",
   "metadata": {},
   "outputs": [
    {
     "name": "stdout",
     "output_type": "stream",
     "text": [
      "<class 'pandas.core.frame.DataFrame'>\n",
      "RangeIndex: 1746 entries, 0 to 1745\n",
      "Data columns (total 5 columns):\n",
      " #   Column           Non-Null Count  Dtype  \n",
      "---  ------           --------------  -----  \n",
      " 0   Country or Area  1746 non-null   object \n",
      " 1   Year(s)          1746 non-null   int64  \n",
      " 2   GENDER           1746 non-null   object \n",
      " 3   Value            1746 non-null   int64  \n",
      " 4   Value Footnotes  0 non-null      float64\n",
      "dtypes: float64(1), int64(2), object(2)\n",
      "memory usage: 68.3+ KB\n"
     ]
    }
   ],
   "source": [
    "life_exp_df.info()"
   ]
  },
  {
   "cell_type": "code",
   "execution_count": 111,
   "id": "aad9bb08",
   "metadata": {},
   "outputs": [
    {
     "name": "stdout",
     "output_type": "stream",
     "text": [
      "     Country or Area  Year(s)      GENDER  Value\n",
      "0        Afghanistan     2012        Male     58\n",
      "1        Afghanistan     2012      Female     61\n",
      "2        Afghanistan     2012  Both sexes     60\n",
      "3        Afghanistan     2000        Male     54\n",
      "4        Afghanistan     2000      Female     56\n",
      "...              ...      ...         ...    ...\n",
      "1741        Zimbabwe     2000      Female     42\n",
      "1742        Zimbabwe     2000  Both sexes     42\n",
      "1743        Zimbabwe     1990        Male     60\n",
      "1744        Zimbabwe     1990      Female     64\n",
      "1745        Zimbabwe     1990  Both sexes     62\n",
      "\n",
      "[1746 rows x 4 columns]\n"
     ]
    }
   ],
   "source": [
    "del life_exp_df['Value Footnotes']\n",
    "print(life_exp_df)"
   ]
  },
  {
   "cell_type": "code",
   "execution_count": 112,
   "id": "de30c386",
   "metadata": {},
   "outputs": [
    {
     "data": {
      "text/html": [
       "<div>\n",
       "<style scoped>\n",
       "    .dataframe tbody tr th:only-of-type {\n",
       "        vertical-align: middle;\n",
       "    }\n",
       "\n",
       "    .dataframe tbody tr th {\n",
       "        vertical-align: top;\n",
       "    }\n",
       "\n",
       "    .dataframe thead th {\n",
       "        text-align: right;\n",
       "    }\n",
       "</style>\n",
       "<table border=\"1\" class=\"dataframe\">\n",
       "  <thead>\n",
       "    <tr style=\"text-align: right;\">\n",
       "      <th></th>\n",
       "      <th>Country</th>\n",
       "      <th>Year</th>\n",
       "      <th>GENDER</th>\n",
       "      <th>Life_Expectancy</th>\n",
       "    </tr>\n",
       "  </thead>\n",
       "  <tbody>\n",
       "    <tr>\n",
       "      <th>0</th>\n",
       "      <td>Afghanistan</td>\n",
       "      <td>2012</td>\n",
       "      <td>Male</td>\n",
       "      <td>58</td>\n",
       "    </tr>\n",
       "    <tr>\n",
       "      <th>1</th>\n",
       "      <td>Afghanistan</td>\n",
       "      <td>2012</td>\n",
       "      <td>Female</td>\n",
       "      <td>61</td>\n",
       "    </tr>\n",
       "    <tr>\n",
       "      <th>2</th>\n",
       "      <td>Afghanistan</td>\n",
       "      <td>2012</td>\n",
       "      <td>Both sexes</td>\n",
       "      <td>60</td>\n",
       "    </tr>\n",
       "    <tr>\n",
       "      <th>3</th>\n",
       "      <td>Afghanistan</td>\n",
       "      <td>2000</td>\n",
       "      <td>Male</td>\n",
       "      <td>54</td>\n",
       "    </tr>\n",
       "    <tr>\n",
       "      <th>4</th>\n",
       "      <td>Afghanistan</td>\n",
       "      <td>2000</td>\n",
       "      <td>Female</td>\n",
       "      <td>56</td>\n",
       "    </tr>\n",
       "    <tr>\n",
       "      <th>...</th>\n",
       "      <td>...</td>\n",
       "      <td>...</td>\n",
       "      <td>...</td>\n",
       "      <td>...</td>\n",
       "    </tr>\n",
       "    <tr>\n",
       "      <th>1741</th>\n",
       "      <td>Zimbabwe</td>\n",
       "      <td>2000</td>\n",
       "      <td>Female</td>\n",
       "      <td>42</td>\n",
       "    </tr>\n",
       "    <tr>\n",
       "      <th>1742</th>\n",
       "      <td>Zimbabwe</td>\n",
       "      <td>2000</td>\n",
       "      <td>Both sexes</td>\n",
       "      <td>42</td>\n",
       "    </tr>\n",
       "    <tr>\n",
       "      <th>1743</th>\n",
       "      <td>Zimbabwe</td>\n",
       "      <td>1990</td>\n",
       "      <td>Male</td>\n",
       "      <td>60</td>\n",
       "    </tr>\n",
       "    <tr>\n",
       "      <th>1744</th>\n",
       "      <td>Zimbabwe</td>\n",
       "      <td>1990</td>\n",
       "      <td>Female</td>\n",
       "      <td>64</td>\n",
       "    </tr>\n",
       "    <tr>\n",
       "      <th>1745</th>\n",
       "      <td>Zimbabwe</td>\n",
       "      <td>1990</td>\n",
       "      <td>Both sexes</td>\n",
       "      <td>62</td>\n",
       "    </tr>\n",
       "  </tbody>\n",
       "</table>\n",
       "<p>1746 rows × 4 columns</p>\n",
       "</div>"
      ],
      "text/plain": [
       "          Country  Year      GENDER  Life_Expectancy\n",
       "0     Afghanistan  2012        Male               58\n",
       "1     Afghanistan  2012      Female               61\n",
       "2     Afghanistan  2012  Both sexes               60\n",
       "3     Afghanistan  2000        Male               54\n",
       "4     Afghanistan  2000      Female               56\n",
       "...           ...   ...         ...              ...\n",
       "1741     Zimbabwe  2000      Female               42\n",
       "1742     Zimbabwe  2000  Both sexes               42\n",
       "1743     Zimbabwe  1990        Male               60\n",
       "1744     Zimbabwe  1990      Female               64\n",
       "1745     Zimbabwe  1990  Both sexes               62\n",
       "\n",
       "[1746 rows x 4 columns]"
      ]
     },
     "execution_count": 112,
     "metadata": {},
     "output_type": "execute_result"
    }
   ],
   "source": [
    "life_exp_df.rename(columns={'Value': 'Life_Expectancy', 'Country or Area': 'Country', 'Year(s)': 'Year'}, inplace=True)\n",
    "life_exp_df"
   ]
  },
  {
   "cell_type": "code",
   "execution_count": 113,
   "id": "e7682aef",
   "metadata": {},
   "outputs": [
    {
     "name": "stdout",
     "output_type": "stream",
     "text": [
      "          Country  Year      GENDER  Life_Expectancy\n",
      "2     Afghanistan  2012  Both sexes               60\n",
      "5     Afghanistan  2000  Both sexes               55\n",
      "8     Afghanistan  1990  Both sexes               49\n",
      "11        Albania  2012  Both sexes               74\n",
      "14        Albania  2000  Both sexes               70\n",
      "...           ...   ...         ...              ...\n",
      "1733       Zambia  2000  Both sexes               41\n",
      "1736       Zambia  1990  Both sexes               43\n",
      "1739     Zimbabwe  2012  Both sexes               58\n",
      "1742     Zimbabwe  2000  Both sexes               42\n",
      "1745     Zimbabwe  1990  Both sexes               62\n",
      "\n",
      "[582 rows x 4 columns]\n"
     ]
    }
   ],
   "source": [
    "filter_list_6 = ['Both sexes']\n",
    "life_exp_all = life_exp_df[life_exp_df['GENDER'].isin(filter_list_6)]\n",
    "print(life_exp_all)"
   ]
  },
  {
   "cell_type": "code",
   "execution_count": 114,
   "id": "9f31d508",
   "metadata": {},
   "outputs": [
    {
     "name": "stdout",
     "output_type": "stream",
     "text": [
      "<class 'pandas.core.frame.DataFrame'>\n",
      "Int64Index: 582 entries, 2 to 1745\n",
      "Data columns (total 4 columns):\n",
      " #   Column           Non-Null Count  Dtype \n",
      "---  ------           --------------  ----- \n",
      " 0   Country          582 non-null    object\n",
      " 1   Year             582 non-null    int64 \n",
      " 2   GENDER           582 non-null    object\n",
      " 3   Life_Expectancy  582 non-null    int64 \n",
      "dtypes: int64(2), object(2)\n",
      "memory usage: 22.7+ KB\n"
     ]
    }
   ],
   "source": [
    "life_exp_all.info()"
   ]
  },
  {
   "cell_type": "code",
   "execution_count": 119,
   "id": "bff661a8",
   "metadata": {},
   "outputs": [
    {
     "name": "stdout",
     "output_type": "stream",
     "text": [
      "<class 'pandas.core.frame.DataFrame'>\n",
      "Int64Index: 518 entries, 0 to 517\n",
      "Data columns (total 6 columns):\n",
      " #   Column              Non-Null Count  Dtype  \n",
      "---  ------              --------------  -----  \n",
      " 0   Country             518 non-null    object \n",
      " 1   Year                518 non-null    int64  \n",
      " 2   GDP_Per_Capita      453 non-null    float64\n",
      " 3   Internet_Users_Pct  498 non-null    float64\n",
      " 4   GENDER              518 non-null    object \n",
      " 5   Life_Expectancy     518 non-null    int64  \n",
      "dtypes: float64(2), int64(2), object(2)\n",
      "memory usage: 28.3+ KB\n"
     ]
    }
   ],
   "source": [
    "#gdp_and_internet_use.reset_index(drop=True, inplace=True)\n",
    "#life_exp_all.reset_index(drop=True, inplace=True)\n",
    "gdp_internet_life_exp = pd.merge(gdp_and_internet_use, life_exp_all, how=\"inner\", on=[\"Country\",\"Year\"])\n",
    "gdp_internet_life_exp.info()"
   ]
  },
  {
   "cell_type": "code",
   "execution_count": 127,
   "id": "14bbe21d",
   "metadata": {
    "scrolled": false
   },
   "outputs": [
    {
     "data": {
      "text/html": [
       "<div>\n",
       "<style scoped>\n",
       "    .dataframe tbody tr th:only-of-type {\n",
       "        vertical-align: middle;\n",
       "    }\n",
       "\n",
       "    .dataframe tbody tr th {\n",
       "        vertical-align: top;\n",
       "    }\n",
       "\n",
       "    .dataframe thead th {\n",
       "        text-align: right;\n",
       "    }\n",
       "</style>\n",
       "<table border=\"1\" class=\"dataframe\">\n",
       "  <thead>\n",
       "    <tr style=\"text-align: right;\">\n",
       "      <th></th>\n",
       "      <th>Country</th>\n",
       "      <th>Year</th>\n",
       "      <th>GDP_Per_Capita</th>\n",
       "      <th>Internet_Users_Pct</th>\n",
       "      <th>GENDER</th>\n",
       "      <th>Life_Expectancy</th>\n",
       "    </tr>\n",
       "  </thead>\n",
       "  <tbody>\n",
       "    <tr>\n",
       "      <th>0</th>\n",
       "      <td>Afghanistan</td>\n",
       "      <td>2012</td>\n",
       "      <td>2075.491747</td>\n",
       "      <td>5.454545</td>\n",
       "      <td>Both sexes</td>\n",
       "      <td>60</td>\n",
       "    </tr>\n",
       "    <tr>\n",
       "      <th>1</th>\n",
       "      <td>Albania</td>\n",
       "      <td>2012</td>\n",
       "      <td>11263.851342</td>\n",
       "      <td>54.655959</td>\n",
       "      <td>Both sexes</td>\n",
       "      <td>74</td>\n",
       "    </tr>\n",
       "    <tr>\n",
       "      <th>2</th>\n",
       "      <td>Albania</td>\n",
       "      <td>2000</td>\n",
       "      <td>5911.956097</td>\n",
       "      <td>0.114097</td>\n",
       "      <td>Both sexes</td>\n",
       "      <td>70</td>\n",
       "    </tr>\n",
       "    <tr>\n",
       "      <th>3</th>\n",
       "      <td>Albania</td>\n",
       "      <td>1990</td>\n",
       "      <td>4842.734635</td>\n",
       "      <td>0.000000</td>\n",
       "      <td>Both sexes</td>\n",
       "      <td>69</td>\n",
       "    </tr>\n",
       "    <tr>\n",
       "      <th>4</th>\n",
       "      <td>Algeria</td>\n",
       "      <td>2012</td>\n",
       "      <td>11233.534926</td>\n",
       "      <td>15.228027</td>\n",
       "      <td>Both sexes</td>\n",
       "      <td>72</td>\n",
       "    </tr>\n",
       "    <tr>\n",
       "      <th>5</th>\n",
       "      <td>Algeria</td>\n",
       "      <td>2000</td>\n",
       "      <td>8710.455991</td>\n",
       "      <td>0.491706</td>\n",
       "      <td>Both sexes</td>\n",
       "      <td>70</td>\n",
       "    </tr>\n",
       "    <tr>\n",
       "      <th>6</th>\n",
       "      <td>Algeria</td>\n",
       "      <td>1990</td>\n",
       "      <td>8746.352901</td>\n",
       "      <td>0.000000</td>\n",
       "      <td>Both sexes</td>\n",
       "      <td>68</td>\n",
       "    </tr>\n",
       "    <tr>\n",
       "      <th>7</th>\n",
       "      <td>Angola</td>\n",
       "      <td>2012</td>\n",
       "      <td>8036.690482</td>\n",
       "      <td>16.937210</td>\n",
       "      <td>Both sexes</td>\n",
       "      <td>51</td>\n",
       "    </tr>\n",
       "    <tr>\n",
       "      <th>8</th>\n",
       "      <td>Angola</td>\n",
       "      <td>2000</td>\n",
       "      <td>4727.967467</td>\n",
       "      <td>0.105046</td>\n",
       "      <td>Both sexes</td>\n",
       "      <td>46</td>\n",
       "    </tr>\n",
       "    <tr>\n",
       "      <th>9</th>\n",
       "      <td>Angola</td>\n",
       "      <td>1990</td>\n",
       "      <td>5783.429064</td>\n",
       "      <td>0.000000</td>\n",
       "      <td>Both sexes</td>\n",
       "      <td>43</td>\n",
       "    </tr>\n",
       "    <tr>\n",
       "      <th>10</th>\n",
       "      <td>Antigua and Barbuda</td>\n",
       "      <td>2012</td>\n",
       "      <td>17965.502327</td>\n",
       "      <td>58.000000</td>\n",
       "      <td>Both sexes</td>\n",
       "      <td>75</td>\n",
       "    </tr>\n",
       "    <tr>\n",
       "      <th>11</th>\n",
       "      <td>Antigua and Barbuda</td>\n",
       "      <td>2000</td>\n",
       "      <td>18311.013715</td>\n",
       "      <td>6.482226</td>\n",
       "      <td>Both sexes</td>\n",
       "      <td>73</td>\n",
       "    </tr>\n",
       "    <tr>\n",
       "      <th>12</th>\n",
       "      <td>Antigua and Barbuda</td>\n",
       "      <td>1990</td>\n",
       "      <td>15459.551675</td>\n",
       "      <td>0.000000</td>\n",
       "      <td>Both sexes</td>\n",
       "      <td>71</td>\n",
       "    </tr>\n",
       "    <tr>\n",
       "      <th>13</th>\n",
       "      <td>Argentina</td>\n",
       "      <td>2012</td>\n",
       "      <td>24118.867517</td>\n",
       "      <td>55.800000</td>\n",
       "      <td>Both sexes</td>\n",
       "      <td>76</td>\n",
       "    </tr>\n",
       "    <tr>\n",
       "      <th>14</th>\n",
       "      <td>Argentina</td>\n",
       "      <td>2000</td>\n",
       "      <td>18625.288101</td>\n",
       "      <td>7.038683</td>\n",
       "      <td>Both sexes</td>\n",
       "      <td>75</td>\n",
       "    </tr>\n",
       "    <tr>\n",
       "      <th>15</th>\n",
       "      <td>Argentina</td>\n",
       "      <td>1990</td>\n",
       "      <td>14144.762370</td>\n",
       "      <td>0.000000</td>\n",
       "      <td>Both sexes</td>\n",
       "      <td>73</td>\n",
       "    </tr>\n",
       "    <tr>\n",
       "      <th>16</th>\n",
       "      <td>Armenia</td>\n",
       "      <td>2012</td>\n",
       "      <td>10397.690707</td>\n",
       "      <td>37.500000</td>\n",
       "      <td>Both sexes</td>\n",
       "      <td>71</td>\n",
       "    </tr>\n",
       "    <tr>\n",
       "      <th>17</th>\n",
       "      <td>Armenia</td>\n",
       "      <td>2000</td>\n",
       "      <td>4048.257817</td>\n",
       "      <td>1.300470</td>\n",
       "      <td>Both sexes</td>\n",
       "      <td>71</td>\n",
       "    </tr>\n",
       "    <tr>\n",
       "      <th>18</th>\n",
       "      <td>Armenia</td>\n",
       "      <td>1990</td>\n",
       "      <td>5180.050954</td>\n",
       "      <td>0.000000</td>\n",
       "      <td>Both sexes</td>\n",
       "      <td>67</td>\n",
       "    </tr>\n",
       "    <tr>\n",
       "      <th>19</th>\n",
       "      <td>Australia</td>\n",
       "      <td>2012</td>\n",
       "      <td>46571.474558</td>\n",
       "      <td>79.000000</td>\n",
       "      <td>Both sexes</td>\n",
       "      <td>83</td>\n",
       "    </tr>\n",
       "    <tr>\n",
       "      <th>20</th>\n",
       "      <td>Australia</td>\n",
       "      <td>2000</td>\n",
       "      <td>38462.015363</td>\n",
       "      <td>46.756116</td>\n",
       "      <td>Both sexes</td>\n",
       "      <td>80</td>\n",
       "    </tr>\n",
       "    <tr>\n",
       "      <th>21</th>\n",
       "      <td>Australia</td>\n",
       "      <td>1990</td>\n",
       "      <td>31154.661704</td>\n",
       "      <td>0.585095</td>\n",
       "      <td>Both sexes</td>\n",
       "      <td>77</td>\n",
       "    </tr>\n",
       "    <tr>\n",
       "      <th>22</th>\n",
       "      <td>Austria</td>\n",
       "      <td>2012</td>\n",
       "      <td>53391.032403</td>\n",
       "      <td>80.029994</td>\n",
       "      <td>Both sexes</td>\n",
       "      <td>81</td>\n",
       "    </tr>\n",
       "    <tr>\n",
       "      <th>23</th>\n",
       "      <td>Austria</td>\n",
       "      <td>2000</td>\n",
       "      <td>46551.459787</td>\n",
       "      <td>33.730133</td>\n",
       "      <td>Both sexes</td>\n",
       "      <td>78</td>\n",
       "    </tr>\n",
       "    <tr>\n",
       "      <th>24</th>\n",
       "      <td>Austria</td>\n",
       "      <td>1990</td>\n",
       "      <td>37560.398965</td>\n",
       "      <td>0.130369</td>\n",
       "      <td>Both sexes</td>\n",
       "      <td>76</td>\n",
       "    </tr>\n",
       "    <tr>\n",
       "      <th>25</th>\n",
       "      <td>Azerbaijan</td>\n",
       "      <td>2012</td>\n",
       "      <td>14023.980718</td>\n",
       "      <td>54.200000</td>\n",
       "      <td>Both sexes</td>\n",
       "      <td>72</td>\n",
       "    </tr>\n",
       "    <tr>\n",
       "      <th>26</th>\n",
       "      <td>Azerbaijan</td>\n",
       "      <td>2000</td>\n",
       "      <td>4063.471641</td>\n",
       "      <td>0.147758</td>\n",
       "      <td>Both sexes</td>\n",
       "      <td>66</td>\n",
       "    </tr>\n",
       "    <tr>\n",
       "      <th>27</th>\n",
       "      <td>Azerbaijan</td>\n",
       "      <td>1990</td>\n",
       "      <td>7758.154036</td>\n",
       "      <td>0.000000</td>\n",
       "      <td>Both sexes</td>\n",
       "      <td>63</td>\n",
       "    </tr>\n",
       "    <tr>\n",
       "      <th>28</th>\n",
       "      <td>Bahrain</td>\n",
       "      <td>2012</td>\n",
       "      <td>45035.943910</td>\n",
       "      <td>88.000000</td>\n",
       "      <td>Both sexes</td>\n",
       "      <td>77</td>\n",
       "    </tr>\n",
       "    <tr>\n",
       "      <th>29</th>\n",
       "      <td>Bahrain</td>\n",
       "      <td>2000</td>\n",
       "      <td>49406.216692</td>\n",
       "      <td>6.153733</td>\n",
       "      <td>Both sexes</td>\n",
       "      <td>74</td>\n",
       "    </tr>\n",
       "    <tr>\n",
       "      <th>30</th>\n",
       "      <td>Bahrain</td>\n",
       "      <td>1990</td>\n",
       "      <td>38600.721390</td>\n",
       "      <td>0.000000</td>\n",
       "      <td>Both sexes</td>\n",
       "      <td>73</td>\n",
       "    </tr>\n",
       "    <tr>\n",
       "      <th>31</th>\n",
       "      <td>Bangladesh</td>\n",
       "      <td>2012</td>\n",
       "      <td>3195.737148</td>\n",
       "      <td>5.000000</td>\n",
       "      <td>Both sexes</td>\n",
       "      <td>70</td>\n",
       "    </tr>\n",
       "    <tr>\n",
       "      <th>32</th>\n",
       "      <td>Bangladesh</td>\n",
       "      <td>2000</td>\n",
       "      <td>1937.729314</td>\n",
       "      <td>0.071039</td>\n",
       "      <td>Both sexes</td>\n",
       "      <td>65</td>\n",
       "    </tr>\n",
       "    <tr>\n",
       "      <th>33</th>\n",
       "      <td>Bangladesh</td>\n",
       "      <td>1990</td>\n",
       "      <td>1517.729286</td>\n",
       "      <td>0.000000</td>\n",
       "      <td>Both sexes</td>\n",
       "      <td>60</td>\n",
       "    </tr>\n",
       "    <tr>\n",
       "      <th>34</th>\n",
       "      <td>Barbados</td>\n",
       "      <td>2012</td>\n",
       "      <td>15335.739933</td>\n",
       "      <td>70.000000</td>\n",
       "      <td>Both sexes</td>\n",
       "      <td>78</td>\n",
       "    </tr>\n",
       "    <tr>\n",
       "      <th>35</th>\n",
       "      <td>Barbados</td>\n",
       "      <td>2000</td>\n",
       "      <td>15124.213425</td>\n",
       "      <td>3.973678</td>\n",
       "      <td>Both sexes</td>\n",
       "      <td>75</td>\n",
       "    </tr>\n",
       "    <tr>\n",
       "      <th>36</th>\n",
       "      <td>Barbados</td>\n",
       "      <td>1990</td>\n",
       "      <td>13984.031739</td>\n",
       "      <td>0.000000</td>\n",
       "      <td>Both sexes</td>\n",
       "      <td>74</td>\n",
       "    </tr>\n",
       "    <tr>\n",
       "      <th>37</th>\n",
       "      <td>Belarus</td>\n",
       "      <td>2012</td>\n",
       "      <td>18576.728676</td>\n",
       "      <td>46.910000</td>\n",
       "      <td>Both sexes</td>\n",
       "      <td>72</td>\n",
       "    </tr>\n",
       "    <tr>\n",
       "      <th>38</th>\n",
       "      <td>Belarus</td>\n",
       "      <td>2000</td>\n",
       "      <td>8053.173638</td>\n",
       "      <td>1.860398</td>\n",
       "      <td>Both sexes</td>\n",
       "      <td>69</td>\n",
       "    </tr>\n",
       "    <tr>\n",
       "      <th>39</th>\n",
       "      <td>Belarus</td>\n",
       "      <td>1990</td>\n",
       "      <td>8895.476512</td>\n",
       "      <td>0.000000</td>\n",
       "      <td>Both sexes</td>\n",
       "      <td>71</td>\n",
       "    </tr>\n",
       "    <tr>\n",
       "      <th>40</th>\n",
       "      <td>Belgium</td>\n",
       "      <td>2012</td>\n",
       "      <td>48363.938248</td>\n",
       "      <td>80.719991</td>\n",
       "      <td>Both sexes</td>\n",
       "      <td>80</td>\n",
       "    </tr>\n",
       "    <tr>\n",
       "      <th>41</th>\n",
       "      <td>Belgium</td>\n",
       "      <td>2000</td>\n",
       "      <td>43160.691494</td>\n",
       "      <td>29.431692</td>\n",
       "      <td>Both sexes</td>\n",
       "      <td>78</td>\n",
       "    </tr>\n",
       "    <tr>\n",
       "      <th>42</th>\n",
       "      <td>Belgium</td>\n",
       "      <td>1990</td>\n",
       "      <td>35619.619692</td>\n",
       "      <td>0.001007</td>\n",
       "      <td>Both sexes</td>\n",
       "      <td>76</td>\n",
       "    </tr>\n",
       "    <tr>\n",
       "      <th>43</th>\n",
       "      <td>Belize</td>\n",
       "      <td>2012</td>\n",
       "      <td>7178.915377</td>\n",
       "      <td>31.000000</td>\n",
       "      <td>Both sexes</td>\n",
       "      <td>75</td>\n",
       "    </tr>\n",
       "    <tr>\n",
       "      <th>44</th>\n",
       "      <td>Belize</td>\n",
       "      <td>2000</td>\n",
       "      <td>6521.380707</td>\n",
       "      <td>5.963835</td>\n",
       "      <td>Both sexes</td>\n",
       "      <td>72</td>\n",
       "    </tr>\n",
       "    <tr>\n",
       "      <th>45</th>\n",
       "      <td>Belize</td>\n",
       "      <td>1990</td>\n",
       "      <td>4797.914590</td>\n",
       "      <td>0.000000</td>\n",
       "      <td>Both sexes</td>\n",
       "      <td>71</td>\n",
       "    </tr>\n",
       "    <tr>\n",
       "      <th>46</th>\n",
       "      <td>Benin</td>\n",
       "      <td>2012</td>\n",
       "      <td>2759.849958</td>\n",
       "      <td>4.500000</td>\n",
       "      <td>Both sexes</td>\n",
       "      <td>59</td>\n",
       "    </tr>\n",
       "    <tr>\n",
       "      <th>47</th>\n",
       "      <td>Benin</td>\n",
       "      <td>2000</td>\n",
       "      <td>2478.216433</td>\n",
       "      <td>0.225248</td>\n",
       "      <td>Both sexes</td>\n",
       "      <td>54</td>\n",
       "    </tr>\n",
       "    <tr>\n",
       "      <th>48</th>\n",
       "      <td>Benin</td>\n",
       "      <td>1990</td>\n",
       "      <td>2175.205518</td>\n",
       "      <td>0.000000</td>\n",
       "      <td>Both sexes</td>\n",
       "      <td>53</td>\n",
       "    </tr>\n",
       "    <tr>\n",
       "      <th>49</th>\n",
       "      <td>Bhutan</td>\n",
       "      <td>2012</td>\n",
       "      <td>9083.991507</td>\n",
       "      <td>24.000000</td>\n",
       "      <td>Both sexes</td>\n",
       "      <td>68</td>\n",
       "    </tr>\n",
       "  </tbody>\n",
       "</table>\n",
       "</div>"
      ],
      "text/plain": [
       "                Country  Year  GDP_Per_Capita  Internet_Users_Pct      GENDER  \\\n",
       "0           Afghanistan  2012     2075.491747            5.454545  Both sexes   \n",
       "1               Albania  2012    11263.851342           54.655959  Both sexes   \n",
       "2               Albania  2000     5911.956097            0.114097  Both sexes   \n",
       "3               Albania  1990     4842.734635            0.000000  Both sexes   \n",
       "4               Algeria  2012    11233.534926           15.228027  Both sexes   \n",
       "5               Algeria  2000     8710.455991            0.491706  Both sexes   \n",
       "6               Algeria  1990     8746.352901            0.000000  Both sexes   \n",
       "7                Angola  2012     8036.690482           16.937210  Both sexes   \n",
       "8                Angola  2000     4727.967467            0.105046  Both sexes   \n",
       "9                Angola  1990     5783.429064            0.000000  Both sexes   \n",
       "10  Antigua and Barbuda  2012    17965.502327           58.000000  Both sexes   \n",
       "11  Antigua and Barbuda  2000    18311.013715            6.482226  Both sexes   \n",
       "12  Antigua and Barbuda  1990    15459.551675            0.000000  Both sexes   \n",
       "13            Argentina  2012    24118.867517           55.800000  Both sexes   \n",
       "14            Argentina  2000    18625.288101            7.038683  Both sexes   \n",
       "15            Argentina  1990    14144.762370            0.000000  Both sexes   \n",
       "16              Armenia  2012    10397.690707           37.500000  Both sexes   \n",
       "17              Armenia  2000     4048.257817            1.300470  Both sexes   \n",
       "18              Armenia  1990     5180.050954            0.000000  Both sexes   \n",
       "19            Australia  2012    46571.474558           79.000000  Both sexes   \n",
       "20            Australia  2000    38462.015363           46.756116  Both sexes   \n",
       "21            Australia  1990    31154.661704            0.585095  Both sexes   \n",
       "22              Austria  2012    53391.032403           80.029994  Both sexes   \n",
       "23              Austria  2000    46551.459787           33.730133  Both sexes   \n",
       "24              Austria  1990    37560.398965            0.130369  Both sexes   \n",
       "25           Azerbaijan  2012    14023.980718           54.200000  Both sexes   \n",
       "26           Azerbaijan  2000     4063.471641            0.147758  Both sexes   \n",
       "27           Azerbaijan  1990     7758.154036            0.000000  Both sexes   \n",
       "28              Bahrain  2012    45035.943910           88.000000  Both sexes   \n",
       "29              Bahrain  2000    49406.216692            6.153733  Both sexes   \n",
       "30              Bahrain  1990    38600.721390            0.000000  Both sexes   \n",
       "31           Bangladesh  2012     3195.737148            5.000000  Both sexes   \n",
       "32           Bangladesh  2000     1937.729314            0.071039  Both sexes   \n",
       "33           Bangladesh  1990     1517.729286            0.000000  Both sexes   \n",
       "34             Barbados  2012    15335.739933           70.000000  Both sexes   \n",
       "35             Barbados  2000    15124.213425            3.973678  Both sexes   \n",
       "36             Barbados  1990    13984.031739            0.000000  Both sexes   \n",
       "37              Belarus  2012    18576.728676           46.910000  Both sexes   \n",
       "38              Belarus  2000     8053.173638            1.860398  Both sexes   \n",
       "39              Belarus  1990     8895.476512            0.000000  Both sexes   \n",
       "40              Belgium  2012    48363.938248           80.719991  Both sexes   \n",
       "41              Belgium  2000    43160.691494           29.431692  Both sexes   \n",
       "42              Belgium  1990    35619.619692            0.001007  Both sexes   \n",
       "43               Belize  2012     7178.915377           31.000000  Both sexes   \n",
       "44               Belize  2000     6521.380707            5.963835  Both sexes   \n",
       "45               Belize  1990     4797.914590            0.000000  Both sexes   \n",
       "46                Benin  2012     2759.849958            4.500000  Both sexes   \n",
       "47                Benin  2000     2478.216433            0.225248  Both sexes   \n",
       "48                Benin  1990     2175.205518            0.000000  Both sexes   \n",
       "49               Bhutan  2012     9083.991507           24.000000  Both sexes   \n",
       "\n",
       "    Life_Expectancy  \n",
       "0                60  \n",
       "1                74  \n",
       "2                70  \n",
       "3                69  \n",
       "4                72  \n",
       "5                70  \n",
       "6                68  \n",
       "7                51  \n",
       "8                46  \n",
       "9                43  \n",
       "10               75  \n",
       "11               73  \n",
       "12               71  \n",
       "13               76  \n",
       "14               75  \n",
       "15               73  \n",
       "16               71  \n",
       "17               71  \n",
       "18               67  \n",
       "19               83  \n",
       "20               80  \n",
       "21               77  \n",
       "22               81  \n",
       "23               78  \n",
       "24               76  \n",
       "25               72  \n",
       "26               66  \n",
       "27               63  \n",
       "28               77  \n",
       "29               74  \n",
       "30               73  \n",
       "31               70  \n",
       "32               65  \n",
       "33               60  \n",
       "34               78  \n",
       "35               75  \n",
       "36               74  \n",
       "37               72  \n",
       "38               69  \n",
       "39               71  \n",
       "40               80  \n",
       "41               78  \n",
       "42               76  \n",
       "43               75  \n",
       "44               72  \n",
       "45               71  \n",
       "46               59  \n",
       "47               54  \n",
       "48               53  \n",
       "49               68  "
      ]
     },
     "execution_count": 127,
     "metadata": {},
     "output_type": "execute_result"
    }
   ],
   "source": [
    "gdp_internet_life_exp.head(50)"
   ]
  },
  {
   "cell_type": "code",
   "execution_count": 129,
   "id": "4cdc5837",
   "metadata": {},
   "outputs": [
    {
     "data": {
      "image/png": "[encoded data removed]",
      "text/plain": [
       "<Figure size 648x216 with 3 Axes>"
      ]
     },
     "metadata": {
      "needs_background": "light"
     },
     "output_type": "display_data"
    }
   ],
   "source": [
    "graph = sns.FacetGrid(gdp_internet_life_exp, col =\"Year\")\n",
    "graph.map(plt.scatter, 'GDP_Per_Capita', 'Life_Expectancy');"
   ]
  }
 ],
 "metadata": {
  "kernelspec": {
   "display_name": "Python 3",
   "language": "python",
   "name": "python3"
  },
  "language_info": {
   "codemirror_mode": {
    "name": "ipython",
    "version": 3
   },
   "file_extension": ".py",
   "mimetype": "text/x-python",
   "name": "python",
   "nbconvert_exporter": "python",
   "pygments_lexer": "ipython3",
   "version": "3.8.8"
  }
 },
 "nbformat": 4,
 "nbformat_minor": 5
}
