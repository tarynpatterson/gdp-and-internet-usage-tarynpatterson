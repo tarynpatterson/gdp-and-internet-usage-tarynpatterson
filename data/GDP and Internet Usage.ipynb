{
 "cells": [
  {
   "cell_type": "markdown",
   "id": "3120c4df",
   "metadata": {},
   "source": [
    "Import the required packages with their customary aliases"
   ]
  },
  {
   "cell_type": "code",
   "execution_count": 2,
   "id": "7e6f3998",
   "metadata": {},
   "outputs": [],
   "source": [
    "import pandas as pd\n",
    "import numpy as np\n",
    "import matplotlib.pyplot as plt\n",
    "import seaborn as sns\n",
    "%matplotlib inline"
   ]
  },
  {
   "cell_type": "markdown",
   "id": "406b3973",
   "metadata": {},
   "source": [
    "Use pandas to read csv file and set as dataframe gdp_df"
   ]
  },
  {
   "cell_type": "code",
   "execution_count": 10,
   "id": "e25c00cc",
   "metadata": {},
   "outputs": [],
   "source": [
    "gdp_df = pd.read_csv('gdp_percapita.csv')"
   ]
  },
  {
   "cell_type": "markdown",
   "id": "ed2b0853",
   "metadata": {},
   "source": [
    "Print first 6 rows"
   ]
  },
  {
   "cell_type": "code",
   "execution_count": 13,
   "id": "0673aaec",
   "metadata": {},
   "outputs": [
    {
     "name": "stdout",
     "output_type": "stream",
     "text": [
      "  Country or Area  Year        Value  Value Footnotes\n",
      "0     Afghanistan  2019  2065.036398              NaN\n",
      "1     Afghanistan  2018  2033.779002              NaN\n",
      "2     Afghanistan  2017  2058.383832              NaN\n",
      "3     Afghanistan  2016  2057.062164              NaN\n",
      "4     Afghanistan  2015  2068.265904              NaN\n",
      "5     Afghanistan  2014  2102.385234              NaN\n"
     ]
    }
   ],
   "source": [
    "print(gdp_df.head(6))"
   ]
  },
  {
   "cell_type": "markdown",
   "id": "d5f83bfb",
   "metadata": {},
   "source": [
    "Repeat for the internet use dataset"
   ]
  },
  {
   "cell_type": "code",
   "execution_count": 14,
   "id": "03fc55af",
   "metadata": {},
   "outputs": [
    {
     "name": "stdout",
     "output_type": "stream",
     "text": [
      "  Country or Area  Year     Value  Value Footnotes\n",
      "0     Afghanistan  2014  6.390000              NaN\n",
      "1     Afghanistan  2013  5.900000              NaN\n",
      "2     Afghanistan  2012  5.454545              NaN\n",
      "3     Afghanistan  2011  5.000000              NaN\n",
      "4     Afghanistan  2010  4.000000              NaN\n",
      "5     Afghanistan  2009  3.550000              NaN\n"
     ]
    },
    {
     "name": "stderr",
     "output_type": "stream",
     "text": [
      "b'Skipping line 4675: expected 4 fields, saw 6\\n'\n"
     ]
    }
   ],
   "source": [
    "internet_df = pd.read_csv('internet_use.csv', error_bad_lines=False)\n",
    "print(internet_df.head(6))"
   ]
  },
  {
   "cell_type": "markdown",
   "id": "6b3dfc37",
   "metadata": {},
   "source": [
    "Look at the shape of each DataFrame - how many rows? How many columns?"
   ]
  },
  {
   "cell_type": "code",
   "execution_count": 15,
   "id": "969c37e4",
   "metadata": {},
   "outputs": [
    {
     "name": "stdout",
     "output_type": "stream",
     "text": [
      "Number of rows gdp 6870\n",
      "Number of columns gdp 4\n",
      "Number of rows internet 4675\n",
      "Number of columns internet 4\n"
     ]
    }
   ],
   "source": [
    "row_count, column_count = gdp_df.shape\n",
    "\n",
    "print(\"Number of rows gdp\", row_count)\n",
    "print(\"Number of columns gdp\", column_count)\n",
    "\n",
    "row_count, column_count = internet_df.shape\n",
    "\n",
    "print(\"Number of rows internet\", row_count)\n",
    "print(\"Number of columns internet\", column_count)"
   ]
  },
  {
   "cell_type": "markdown",
   "id": "3231a636",
   "metadata": {},
   "source": [
    "Take a look at the datatypes for the columns in each DataFrame."
   ]
  },
  {
   "cell_type": "code",
   "execution_count": 16,
   "id": "3d2b776e",
   "metadata": {},
   "outputs": [
    {
     "name": "stdout",
     "output_type": "stream",
     "text": [
      "<class 'pandas.core.frame.DataFrame'>\n",
      "RangeIndex: 6870 entries, 0 to 6869\n",
      "Data columns (total 4 columns):\n",
      " #   Column           Non-Null Count  Dtype  \n",
      "---  ------           --------------  -----  \n",
      " 0   Country or Area  6870 non-null   object \n",
      " 1   Year             6870 non-null   object \n",
      " 2   Value            6868 non-null   float64\n",
      " 3   Value Footnotes  1 non-null      float64\n",
      "dtypes: float64(2), object(2)\n",
      "memory usage: 214.8+ KB\n",
      "<class 'pandas.core.frame.DataFrame'>\n",
      "RangeIndex: 4675 entries, 0 to 4674\n",
      "Data columns (total 4 columns):\n",
      " #   Column           Non-Null Count  Dtype  \n",
      "---  ------           --------------  -----  \n",
      " 0   Country or Area  4675 non-null   object \n",
      " 1   Year             4675 non-null   object \n",
      " 2   Value            4495 non-null   float64\n",
      " 3   Value Footnotes  948 non-null    float64\n",
      "dtypes: float64(2), object(2)\n",
      "memory usage: 146.2+ KB\n"
     ]
    }
   ],
   "source": [
    "gdp_df.info()\n",
    "\n",
    "internet_df.info()"
   ]
  },
  {
   "cell_type": "markdown",
   "id": "d0af07de",
   "metadata": {},
   "source": [
    "Take a look at the last 10 rows of each DataFrame in turn."
   ]
  },
  {
   "cell_type": "code",
   "execution_count": 17,
   "id": "1dd970e8",
   "metadata": {
    "scrolled": true
   },
   "outputs": [
    {
     "name": "stdout",
     "output_type": "stream",
     "text": [
      "     Country or Area                                      Year        Value  \\\n",
      "6860        Zimbabwe                                      1997  3580.048793   \n",
      "6861        Zimbabwe                                      1996  3520.430146   \n",
      "6862        Zimbabwe                                      1995  3226.413930   \n",
      "6863        Zimbabwe                                      1994  3263.934978   \n",
      "6864        Zimbabwe                                      1993  3033.504852   \n",
      "6865        Zimbabwe                                      1992  3054.889178   \n",
      "6866        Zimbabwe                                      1991  3426.598094   \n",
      "6867        Zimbabwe                                      1990  3324.348171   \n",
      "6868   footnoteSeqID                                  Footnote          NaN   \n",
      "6869               2  Excludes South Sudan after July 9, 2011.          NaN   \n",
      "\n",
      "      Value Footnotes  \n",
      "6860              NaN  \n",
      "6861              NaN  \n",
      "6862              NaN  \n",
      "6863              NaN  \n",
      "6864              NaN  \n",
      "6865              NaN  \n",
      "6866              NaN  \n",
      "6867              NaN  \n",
      "6868              NaN  \n",
      "6869              NaN  \n"
     ]
    }
   ],
   "source": [
    "print(gdp_df.tail(10))"
   ]
  },
  {
   "cell_type": "code",
   "execution_count": 18,
   "id": "ea9aa7f5",
   "metadata": {},
   "outputs": [
    {
     "name": "stdout",
     "output_type": "stream",
     "text": [
      "     Country or Area                                               Year  \\\n",
      "4665             170                   Refers to the total population.    \n",
      "4666             171                        Internet Dial-up customers.   \n",
      "4667             172  Population age 16+ using the Internet in the l...   \n",
      "4668             173  Population age 16+ using internet in the last ...   \n",
      "4669             174  U.S. Census Bureau, Table 2. Reported Internet...   \n",
      "4670             175             Includes individuals 3 years and older   \n",
      "4671             176                                   NTIA/CPS survey.   \n",
      "4672             178  Estimated based on Survey's results. Populatio...   \n",
      "4673             179                     Preliminary. Country estimate.   \n",
      "4674             180  The methodology used to estimated the figure f...   \n",
      "\n",
      "      Value  Value Footnotes  \n",
      "4665    NaN              NaN  \n",
      "4666    NaN              NaN  \n",
      "4667    NaN              NaN  \n",
      "4668    NaN              NaN  \n",
      "4669    NaN              NaN  \n",
      "4670    NaN              NaN  \n",
      "4671    NaN              NaN  \n",
      "4672    NaN              NaN  \n",
      "4673    NaN              NaN  \n",
      "4674    NaN              NaN  \n"
     ]
    }
   ],
   "source": [
    "print(internet_df.tail(10))"
   ]
  },
  {
   "cell_type": "markdown",
   "id": "8d3b1184",
   "metadata": {},
   "source": [
    "Drop the value footnotes column from both DataFrames. Check that this worked as expected."
   ]
  },
  {
   "cell_type": "code",
   "execution_count": 19,
   "id": "9f0257cb",
   "metadata": {},
   "outputs": [
    {
     "name": "stdout",
     "output_type": "stream",
     "text": [
      "<class 'pandas.core.frame.DataFrame'>\n",
      "RangeIndex: 6870 entries, 0 to 6869\n",
      "Data columns (total 3 columns):\n",
      " #   Column           Non-Null Count  Dtype  \n",
      "---  ------           --------------  -----  \n",
      " 0   Country or Area  6870 non-null   object \n",
      " 1   Year             6870 non-null   object \n",
      " 2   Value            6868 non-null   float64\n",
      "dtypes: float64(1), object(2)\n",
      "memory usage: 161.1+ KB\n"
     ]
    }
   ],
   "source": [
    "del gdp_df['Value Footnotes']\n",
    "gdp_df.info()"
   ]
  },
  {
   "cell_type": "code",
   "execution_count": 20,
   "id": "259401f1",
   "metadata": {},
   "outputs": [
    {
     "name": "stdout",
     "output_type": "stream",
     "text": [
      "<class 'pandas.core.frame.DataFrame'>\n",
      "RangeIndex: 4675 entries, 0 to 4674\n",
      "Data columns (total 3 columns):\n",
      " #   Column           Non-Null Count  Dtype  \n",
      "---  ------           --------------  -----  \n",
      " 0   Country or Area  4675 non-null   object \n",
      " 1   Year             4675 non-null   object \n",
      " 2   Value            4495 non-null   float64\n",
      "dtypes: float64(1), object(2)\n",
      "memory usage: 109.7+ KB\n"
     ]
    }
   ],
   "source": [
    "del internet_df['Value Footnotes']\n",
    "internet_df.info()"
   ]
  },
  {
   "cell_type": "markdown",
   "id": "36051fb2",
   "metadata": {},
   "source": [
    "Change the columns for the GDP Per Capita DataFrame to ‘Country’, ‘Year’, and ‘GDP_Per_Capita’."
   ]
  },
  {
   "cell_type": "code",
   "execution_count": 21,
   "id": "1ba8f6a0",
   "metadata": {},
   "outputs": [
    {
     "name": "stdout",
     "output_type": "stream",
     "text": [
      "<class 'pandas.core.frame.DataFrame'>\n",
      "RangeIndex: 6870 entries, 0 to 6869\n",
      "Data columns (total 3 columns):\n",
      " #   Column          Non-Null Count  Dtype  \n",
      "---  ------          --------------  -----  \n",
      " 0   Country         6870 non-null   object \n",
      " 1   Year            6870 non-null   object \n",
      " 2   GDP_Per_Capita  6868 non-null   float64\n",
      "dtypes: float64(1), object(2)\n",
      "memory usage: 161.1+ KB\n"
     ]
    }
   ],
   "source": [
    "gdp_df.rename(columns={'Country of Area': 'Country', 'Value': 'GDP_Per_Capita'}, inplace=True)\n",
    "gdp_df.rename(columns={'Country or Area': 'Country'}, inplace=True)\n",
    "gdp_df.info()"
   ]
  },
  {
   "cell_type": "markdown",
   "id": "93a0d97d",
   "metadata": {},
   "source": [
    "Change the columns for the Internet Users DataFrame to ‘Country’, ‘Year’, and ‘Internet_Users_Pct’."
   ]
  },
  {
   "cell_type": "code",
   "execution_count": 22,
   "id": "6c66e748",
   "metadata": {},
   "outputs": [
    {
     "name": "stdout",
     "output_type": "stream",
     "text": [
      "<class 'pandas.core.frame.DataFrame'>\n",
      "RangeIndex: 4675 entries, 0 to 4674\n",
      "Data columns (total 3 columns):\n",
      " #   Column              Non-Null Count  Dtype  \n",
      "---  ------              --------------  -----  \n",
      " 0   Country             4675 non-null   object \n",
      " 1   Year                4675 non-null   object \n",
      " 2   Internet_Users_Pct  4495 non-null   float64\n",
      "dtypes: float64(1), object(2)\n",
      "memory usage: 109.7+ KB\n"
     ]
    }
   ],
   "source": [
    "internet_df.rename(columns={'Country of Area': 'Country', 'Value': 'GDP_Per_Capita'}, inplace=True)\n",
    "internet_df.rename(columns={'Country of Area': 'Country', 'GDP_Per_Capita': 'Internet_Users_Pct'}, inplace=True)\n",
    "internet_df.rename(columns={'Country or Area': 'Country'}, inplace=True)\n",
    "internet_df.info()"
   ]
  },
  {
   "cell_type": "markdown",
   "id": "86c27b21",
   "metadata": {},
   "source": [
    "Merge the two DataFrames to one. Merge all rows from each of the two DataFrames. Call the new DataFrame gdp_and_internet_use. Look at the last five rows to make sure the data is clean and as expected."
   ]
  },
  {
   "cell_type": "code",
   "execution_count": 28,
   "id": "74dce120",
   "metadata": {},
   "outputs": [
    {
     "name": "stdout",
     "output_type": "stream",
     "text": [
      "<class 'pandas.core.frame.DataFrame'>\n",
      "Int64Index: 8086 entries, 0 to 8085\n",
      "Data columns (total 4 columns):\n",
      " #   Column              Non-Null Count  Dtype  \n",
      "---  ------              --------------  -----  \n",
      " 0   Country             8086 non-null   object \n",
      " 1   Year                8086 non-null   object \n",
      " 2   GDP_Per_Capita      6868 non-null   float64\n",
      " 3   Internet_Users_Pct  4495 non-null   float64\n",
      "dtypes: float64(2), object(2)\n",
      "memory usage: 315.9+ KB\n",
      "None\n",
      "     Country                                               Year  \\\n",
      "8081     175             Includes individuals 3 years and older   \n",
      "8082     176                                   NTIA/CPS survey.   \n",
      "8083     178  Estimated based on Survey's results. Populatio...   \n",
      "8084     179                     Preliminary. Country estimate.   \n",
      "8085     180  The methodology used to estimated the figure f...   \n",
      "\n",
      "      GDP_Per_Capita  Internet_Users_Pct  \n",
      "8081             NaN                 NaN  \n",
      "8082             NaN                 NaN  \n",
      "8083             NaN                 NaN  \n",
      "8084             NaN                 NaN  \n",
      "8085             NaN                 NaN  \n"
     ]
    }
   ],
   "source": [
    "gdp_and_internet_use = pd.merge(gdp_df, internet_df, how=\"outer\", on=[\"Country\",\"Year\"])\n",
    "print(gdp_and_internet_use.info())\n",
    "print(gdp_and_internet_use.tail(5))"
   ]
  },
  {
   "cell_type": "markdown",
   "id": "4c2ac5fe",
   "metadata": {},
   "source": [
    "Subset the combined DataFrame to keep only the data for 2004, 2009, and 2014. Check that this happened correctly."
   ]
  },
  {
   "cell_type": "code",
   "execution_count": 33,
   "id": "cf42e05e",
   "metadata": {},
   "outputs": [
    {
     "name": "stdout",
     "output_type": "stream",
     "text": [
      "                 Country  Year  GDP_Per_Capita  Internet_Users_Pct\n",
      "5            Afghanistan  2014     2102.385234            6.390000\n",
      "10           Afghanistan  2009     1758.904043            3.550000\n",
      "15           Afghanistan  2004     1200.278256            0.105809\n",
      "23               Albania  2014    11623.866679           60.100000\n",
      "28               Albania  2009    10346.864199           41.200000\n",
      "33               Albania  2004     7604.838002            2.420388\n",
      "53               Algeria  2014    11512.705405           18.090000\n",
      "58               Algeria  2009    10782.361398           11.230000\n",
      "63               Algeria  2004    10058.435939            4.634475\n",
      "83                Angola  2014     8239.828837           21.260000\n",
      "88                Angola  2009     7643.493749            6.000000\n",
      "93                Angola  2004     5593.241537            0.464815\n",
      "113  Antigua and Barbuda  2014    18104.241470           64.000000\n",
      "118  Antigua and Barbuda  2009    20046.839017           42.000000\n",
      "123  Antigua and Barbuda  2004    18745.681534           24.266544\n",
      "143           Arab World  2014    14219.562395                 NaN\n",
      "148           Arab World  2009    13063.094140                 NaN\n",
      "153           Arab World  2004    11742.589407                 NaN\n",
      "173            Argentina  2014    23550.099061           64.700000\n",
      "178            Argentina  2009    21519.892554           34.000000\n",
      "                    Country  Year  GDP_Per_Capita  Internet_Users_Pct\n",
      "7704              Swaziland  2009             NaN            8.940000\n",
      "7709              Swaziland  2004             NaN            3.228685\n",
      "7720                  Syria  2014             NaN           28.090000\n",
      "7725                  Syria  2009             NaN           17.300000\n",
      "7730                  Syria  2004             NaN            4.321594\n",
      "7763     T.F.Y.R. Macedonia  2014             NaN           68.060000\n",
      "7768     T.F.Y.R. Macedonia  2009             NaN           51.770000\n",
      "7773     T.F.Y.R. Macedonia  2004             NaN           24.440000\n",
      "7821              Venezuela  2014             NaN           57.000000\n",
      "7826              Venezuela  2009             NaN           32.700000\n",
      "7831              Venezuela  2004             NaN            8.404470\n",
      "7845               Viet Nam  2014             NaN           48.310000\n",
      "7850               Viet Nam  2009             NaN           26.550000\n",
      "7855               Viet Nam  2004             NaN            7.642409\n",
      "7865  Virgin Islands (U.S.)  2014             NaN           50.070000\n",
      "7870  Virgin Islands (U.S.)  2009             NaN           27.396510\n",
      "7875  Virgin Islands (U.S.)  2004             NaN           27.377009\n",
      "7887                  Yemen  2014             NaN           22.550000\n",
      "7892                  Yemen  2009             NaN            9.960000\n",
      "7897                  Yemen  2004             NaN            0.881223\n"
     ]
    }
   ],
   "source": [
    "gdp_and_internet_use_sub = gdp_and_internet_use[gdp_and_internet_use['Year'].isin(['2004', '2009', '2014'])]\n",
    "print(gdp_and_internet_use_sub.head(20))\n",
    "print(gdp_and_internet_use_sub.tail(20))"
   ]
  },
  {
   "cell_type": "markdown",
   "id": "aa8bdf3c",
   "metadata": {},
   "source": [
    "Create three new DataFrames, one for 2004, one for 2009, and one for 2014. Give them meaningful names that aren't too long."
   ]
  },
  {
   "cell_type": "code",
   "execution_count": 43,
   "id": "2bcc3960",
   "metadata": {},
   "outputs": [
    {
     "name": "stdout",
     "output_type": "stream",
     "text": [
      "                 Country  Year  GDP_Per_Capita  Internet_Users_Pct\n",
      "5            Afghanistan  2014     2102.385234                6.39\n",
      "23               Albania  2014    11623.866679               60.10\n",
      "53               Algeria  2014    11512.705405               18.09\n",
      "83                Angola  2014     8239.828837               21.26\n",
      "113  Antigua and Barbuda  2014    18104.241470               64.00\n",
      "143           Arab World  2014    14219.562395                 NaN\n",
      "173            Argentina  2014    23550.099061               64.70\n",
      "203              Armenia  2014    11019.838785               46.30\n",
      "231                Aruba  2014    35458.608343               83.78\n",
      "261            Australia  2014    47436.748390               84.56\n"
     ]
    }
   ],
   "source": [
    "gdp_int_2004 = gdp_and_internet_use[gdp_and_internet_use.Year == '2004']\n",
    "gdp_int_2009 = gdp_and_internet_use[gdp_and_internet_use.Year == '2009']\n",
    "gdp_int_2014 = gdp_and_internet_use[gdp_and_internet_use.Year == '2014']\n",
    "print(gdp_int_2014.head(10))"
   ]
  },
  {
   "cell_type": "markdown",
   "id": "15c8b497",
   "metadata": {},
   "source": [
    "Which country had the highest percentage of internet users in 2014? What was the percentage? (Try typing the first 3 letters of your DataFrame name and hitting the tab key for auto-complete options).\n",
    "\n",
    "      Country  Year  GDP_Per_Capita  Internet_Users_Pct\n",
    "2625  Iceland  2014      49652.1495               98.16"
   ]
  },
  {
   "cell_type": "code",
   "execution_count": 36,
   "id": "9fe8f98b",
   "metadata": {},
   "outputs": [
    {
     "name": "stdout",
     "output_type": "stream",
     "text": [
      "      Country  Year  GDP_Per_Capita  Internet_Users_Pct\n",
      "2625  Iceland  2014      49652.1495               98.16\n"
     ]
    }
   ],
   "source": [
    "print(gdp_int_2014.sort_values(by=['Internet_Users_Pct'], ascending=False).head(1))"
   ]
  },
  {
   "cell_type": "markdown",
   "id": "0e3754ac",
   "metadata": {},
   "source": [
    "Which country had the lowest percentage of internet users in 2014? What was the percentage?\n",
    "\n",
    "Country  Year  GDP_Per_Capita  Internet_Users_Pct\n",
    "7081  Dem. People's Rep. of Korea  2014             NaN                 0.0"
   ]
  },
  {
   "cell_type": "code",
   "execution_count": 41,
   "id": "22d236b0",
   "metadata": {},
   "outputs": [
    {
     "name": "stdout",
     "output_type": "stream",
     "text": [
      "Country               Dem. People's Rep. of Korea\n",
      "Year                                         2014\n",
      "GDP_Per_Capita                                NaN\n",
      "Internet_Users_Pct                            0.0\n",
      "Name: 7081, dtype: object\n"
     ]
    }
   ],
   "source": [
    "print(gdp_int_2014.loc[gdp_int_2014['Internet_Users_Pct'].idxmin()])"
   ]
  },
  {
   "cell_type": "markdown",
   "id": "8e08fa6a",
   "metadata": {},
   "source": [
    "Repeat for 2004 and 2009."
   ]
  },
  {
   "cell_type": "code",
   "execution_count": 45,
   "id": "c7c1794c",
   "metadata": {},
   "outputs": [
    {
     "name": "stdout",
     "output_type": "stream",
     "text": [
      "     Country  Year  GDP_Per_Capita  Internet_Users_Pct\n",
      "6019  Sweden  2004    44496.023401               83.89\n",
      "Country               Dem. People's Rep. of Korea\n",
      "Year                                         2004\n",
      "GDP_Per_Capita                                NaN\n",
      "Internet_Users_Pct                            0.0\n",
      "Name: 7090, dtype: object\n"
     ]
    }
   ],
   "source": [
    "print(gdp_int_2004.sort_values(by=['Internet_Users_Pct'], ascending=False).head(1))\n",
    "print(gdp_int_2004.loc[gdp_int_2004['Internet_Users_Pct'].idxmin()])"
   ]
  },
  {
   "cell_type": "code",
   "execution_count": 46,
   "id": "1adfd464",
   "metadata": {},
   "outputs": [
    {
     "name": "stdout",
     "output_type": "stream",
     "text": [
      "      Country  Year  GDP_Per_Capita  Internet_Users_Pct\n",
      "2630  Iceland  2009    48177.084123                93.0\n",
      "Country               Dem. People's Rep. of Korea\n",
      "Year                                         2009\n",
      "GDP_Per_Capita                                NaN\n",
      "Internet_Users_Pct                            0.0\n",
      "Name: 7085, dtype: object\n"
     ]
    }
   ],
   "source": [
    "print(gdp_int_2009.sort_values(by=['Internet_Users_Pct'], ascending=False).head(1))\n",
    "print(gdp_int_2009.loc[gdp_int_2009['Internet_Users_Pct'].idxmin()])"
   ]
  },
  {
   "cell_type": "markdown",
   "id": "c1966385",
   "metadata": {},
   "source": [
    "Which country had the highest gdp per capita in 2014? What was the gdp per capita?\n",
    "Which country had the lowest gdp per capita in 2014? What was the gdp per capita?\n",
    "\n",
    "         Country  Year  GDP_Per_Capita  Internet_Users_Pct\n",
    "1798  Luxembourg  2014    108760.91603               94.67\n",
    "     Country  Year  GDP_Per_Capita  Internet_Users_Pct\n",
    "540  Burundi  2014      886.235777                1.38"
   ]
  },
  {
   "cell_type": "code",
   "execution_count": 47,
   "id": "356ca7fe",
   "metadata": {
    "scrolled": true
   },
   "outputs": [
    {
     "name": "stdout",
     "output_type": "stream",
     "text": [
      "               Country  Year  GDP_Per_Capita  Internet_Users_Pct\n",
      "3721  Macao SAR, China  2014    156514.13385                 NaN\n",
      "Country               Central African Republic\n",
      "Year                                      2014\n",
      "GDP_Per_Capita                      822.610458\n",
      "Internet_Users_Pct                         NaN\n",
      "Name: 1047, dtype: object\n"
     ]
    }
   ],
   "source": [
    "print(gdp_int_2014.sort_values(by=['GDP_Per_Capita'], ascending=False).head(1))\n",
    "print(gdp_int_2014.loc[gdp_int_2014['GDP_Per_Capita'].idxmin()])"
   ]
  },
  {
   "cell_type": "markdown",
   "id": "06492886",
   "metadata": {},
   "source": [
    "Create some scatterplots:\n",
    "a. 2004 Percent Using the Internet vs GDP Per Capita\n",
    "b. 2009 Percent Using the Internet vs GDP Per Capita\n",
    "c. 2014 Percent Using the Internet vs GDP Per Capita"
   ]
  },
  {
   "cell_type": "code",
   "execution_count": 49,
   "id": "0a30b54a",
   "metadata": {},
   "outputs": [
    {
     "data": {
      "text/plain": [
       "<matplotlib.collections.PathCollection at 0x21b09682370>"
      ]
     },
     "execution_count": 49,
     "metadata": {},
     "output_type": "execute_result"
    },
    {
     "data": {
      "image/png": "[encoded data removed]",
      "text/plain": [
       "<Figure size 432x288 with 1 Axes>"
      ]
     },
     "metadata": {
      "needs_background": "light"
     },
     "output_type": "display_data"
    }
   ],
   "source": [
    "plt.scatter(gdp_int_2004['GDP_Per_Capita'], gdp_int_2004['Internet_Users_Pct'])"
   ]
  },
  {
   "cell_type": "code",
   "execution_count": 50,
   "id": "892cc6ba",
   "metadata": {},
   "outputs": [
    {
     "data": {
      "text/plain": [
       "<matplotlib.collections.PathCollection at 0x21b0971ddc0>"
      ]
     },
     "execution_count": 50,
     "metadata": {},
     "output_type": "execute_result"
    },
    {
     "data": {
      "image/png": "[encoded data removed]",
      "text/plain": [
       "<Figure size 432x288 with 1 Axes>"
      ]
     },
     "metadata": {
      "needs_background": "light"
     },
     "output_type": "display_data"
    }
   ],
   "source": [
    "plt.scatter(gdp_int_2009['GDP_Per_Capita'], gdp_int_2009['Internet_Users_Pct'])"
   ]
  },
  {
   "cell_type": "code",
   "execution_count": 51,
   "id": "6320cbe2",
   "metadata": {},
   "outputs": [
    {
     "data": {
      "text/plain": [
       "<matplotlib.collections.PathCollection at 0x21b097d91c0>"
      ]
     },
     "execution_count": 51,
     "metadata": {},
     "output_type": "execute_result"
    },
    {
     "data": {
      "image/png": "[encoded data removed]",
      "text/plain": [
       "<Figure size 432x288 with 1 Axes>"
      ]
     },
     "metadata": {
      "needs_background": "light"
     },
     "output_type": "display_data"
    }
   ],
   "source": [
    "plt.scatter(gdp_int_2014['GDP_Per_Capita'], gdp_int_2014['Internet_Users_Pct'])"
   ]
  },
  {
   "cell_type": "markdown",
   "id": "29079b22",
   "metadata": {},
   "source": [
    "Are there differences across years? What do the plots tell you about any relationship between these two variables? Enter your observations as a markdown cell.\n",
    "\n",
    "It appears as the years increase, more contries recieve internet access regardless of their GDP. However, there is still a positive correllation between a country's GDP and their percentage of internet usage."
   ]
  },
  {
   "cell_type": "markdown",
   "id": "85b1992a",
   "metadata": {},
   "source": [
    "Look at the distribution of gdp per capita values for 2014. Is it unimodal?\n",
    "\n",
    "Yes, it is unimodal."
   ]
  },
  {
   "cell_type": "code",
   "execution_count": 54,
   "id": "0bfa7986",
   "metadata": {},
   "outputs": [
    {
     "data": {
      "image/png": "[encoded data removed]",
      "text/plain": [
       "<Figure size 432x288 with 1 Axes>"
      ]
     },
     "metadata": {
      "needs_background": "light"
     },
     "output_type": "display_data"
    }
   ],
   "source": [
    "_ = gdp_int_2014.hist('GDP_Per_Capita', bins = 10)"
   ]
  },
  {
   "cell_type": "markdown",
   "id": "0d836f01",
   "metadata": {},
   "source": [
    "Look at the distribution of Internet Use for 2014. Is it unimodal?\n",
    "\n",
    "No, it is not unimodal"
   ]
  },
  {
   "cell_type": "code",
   "execution_count": 57,
   "id": "3e02487c",
   "metadata": {},
   "outputs": [
    {
     "data": {
      "image/png": "[encoded data removed]",
      "text/plain": [
       "<Figure size 432x288 with 1 Axes>"
      ]
     },
     "metadata": {
      "needs_background": "light"
     },
     "output_type": "display_data"
    }
   ],
   "source": [
    "gdp_int_2014.hist('Internet_Users_Pct', bins = 10);"
   ]
  },
  {
   "cell_type": "markdown",
   "id": "d8983015",
   "metadata": {},
   "source": [
    "What are the top 5 countries in terms of internet use in 2014?\n",
    "\n",
    "         Country  Year  GDP_Per_Capita  Internet_Users_Pct\n",
    "1381     Iceland  2014    49652.149500               98.16\n",
    "372      Bermuda  2014    77361.104881               96.80\n",
    "2296      Norway  2014    62589.373548               96.30\n",
    "854      Denmark  2014    52214.537753               95.99\n",
    "1798  Luxembourg  2014   108760.916030               94.67"
   ]
  },
  {
   "cell_type": "code",
   "execution_count": 69,
   "id": "fb41e48f",
   "metadata": {},
   "outputs": [
    {
     "name": "stdout",
     "output_type": "stream",
     "text": [
      "      Country  Year  GDP_Per_Capita  Internet_Users_Pct\n",
      "2625  Iceland  2014    49652.149500               98.16\n",
      "561   Bermuda  2014    77361.104881               96.80\n",
      "4648   Norway  2014    62589.373548               96.30\n",
      "1452  Denmark  2014    52214.537753               95.99\n",
      "6873  Andorra  2014             NaN               95.90\n"
     ]
    }
   ],
   "source": [
    "print(gdp_int_2014.sort_values(by=['Internet_Users_Pct'], ascending=False).head(5))"
   ]
  },
  {
   "cell_type": "markdown",
   "id": "6823aeb7",
   "metadata": {},
   "source": [
    "Create a DataFrame called top_5_internet from the combined DataFrame that has all three years for the 5 countries that had the greatest 2014 internet usage. You should have 15 rows. Check that this is true."
   ]
  },
  {
   "cell_type": "code",
   "execution_count": 59,
   "id": "4a55a9fc",
   "metadata": {},
   "outputs": [
    {
     "name": "stdout",
     "output_type": "stream",
     "text": [
      "      Country  Year  GDP_Per_Capita  Internet_Users_Pct\n",
      "561   Bermuda  2014    77361.104881           96.800000\n",
      "566   Bermuda  2009    89961.982744           83.250000\n",
      "571   Bermuda  2004    90195.811033           60.990867\n",
      "1452  Denmark  2014    52214.537753           95.990000\n",
      "1457  Denmark  2009    50274.075696           86.840000\n",
      "1462  Denmark  2004    50607.628971           80.930000\n",
      "2625  Iceland  2014    49652.149500           98.160000\n",
      "2630  Iceland  2009    48177.084123           93.000000\n",
      "2635  Iceland  2004    45145.545658           83.880000\n",
      "4648   Norway  2014    62589.373548           96.300000\n",
      "4653   Norway  2009    61886.564498           92.080000\n",
      "4658   Norway  2004    60893.410993           77.690000\n",
      "6873  Andorra  2014             NaN           95.900000\n",
      "6878  Andorra  2009             NaN           78.530000\n",
      "6883  Andorra  2004             NaN           26.837954\n"
     ]
    }
   ],
   "source": [
    "filter_list_2 = ['Iceland', 'Bermuda', 'Norway', 'Denmark', 'Andorra']\n",
    "top_5_internet = gdp_and_internet_use_sub[gdp_and_internet_use_sub['Country'].isin(filter_list_2)]\n",
    "print(top_5_internet)"
   ]
  },
  {
   "cell_type": "markdown",
   "id": "46eb797b",
   "metadata": {},
   "source": [
    "Create a seaborn FacetGrid to show the internet usage trend across the years 2004, 2009, and 2014 for these 5 countries (those with the highest reported internet use in 2014). Which country had the greatest growth between 2004 and 2014?\n",
    "\n",
    "Answer: Andorra"
   ]
  },
  {
   "cell_type": "code",
   "execution_count": 71,
   "id": "c62846f4",
   "metadata": {},
   "outputs": [
    {
     "data": {
      "image/png": "[encoded data removed]",
      "text/plain": [
       "<Figure size 1080x216 with 5 Axes>"
      ]
     },
     "metadata": {
      "needs_background": "light"
     },
     "output_type": "display_data"
    }
   ],
   "source": [
    "graph = sns.FacetGrid(top_5_internet, col =\"Country\")\n",
    "_ = graph.map(plt.plot, 'Year', 'Internet_Users_Pct')"
   ]
  },
  {
   "cell_type": "markdown",
   "id": "1c40a330",
   "metadata": {},
   "source": [
    "Repeat the steps above to look at the trend for the 5 countries with the lowest 2014 internet usage. Which country has consistently had the least internet use?\n",
    "\n",
    "Answer: Dem. People's Rep. of Korea"
   ]
  },
  {
   "cell_type": "code",
   "execution_count": 63,
   "id": "a99c6d8e",
   "metadata": {},
   "outputs": [
    {
     "name": "stdout",
     "output_type": "stream",
     "text": [
      "7081    Dem. People's Rep. of Korea\n",
      "7139                        Eritrea\n",
      "6219                    Timor-Leste\n",
      "827                         Burundi\n",
      "7676                        Somalia\n",
      "Name: Country, dtype: object\n"
     ]
    }
   ],
   "source": [
    "print(gdp_int_2014.nsmallest(5, 'Internet_Users_Pct')['Country'])"
   ]
  },
  {
   "cell_type": "code",
   "execution_count": 64,
   "id": "9e4c9ab9",
   "metadata": {},
   "outputs": [
    {
     "name": "stdout",
     "output_type": "stream",
     "text": [
      "                          Country  Year  GDP_Per_Capita  Internet_Users_Pct\n",
      "827                       Burundi  2014      886.235777            1.380000\n",
      "832                       Burundi  2009      831.564131            0.900000\n",
      "837                       Burundi  2004      817.460585            0.349060\n",
      "6219                  Timor-Leste  2014     3264.568070            1.140000\n",
      "6224                  Timor-Leste  2009     2724.770973            0.185252\n",
      "6229                  Timor-Leste  2004     2258.608056                 NaN\n",
      "7081  Dem. People's Rep. of Korea  2014             NaN            0.000000\n",
      "7085  Dem. People's Rep. of Korea  2009             NaN            0.000000\n",
      "7090  Dem. People's Rep. of Korea  2004             NaN            0.000000\n",
      "7139                      Eritrea  2014             NaN            0.990000\n",
      "7144                      Eritrea  2009             NaN            0.540000\n",
      "7676                      Somalia  2014             NaN            1.630000\n",
      "7680                      Somalia  2009             NaN            1.160611\n",
      "7685                      Somalia  2004             NaN            1.053455\n"
     ]
    }
   ],
   "source": [
    "filter_list_3 = ['Timor-Leste', 'Burundi', 'Eritrea', 'Somalia', \"Dem. People's Rep. of Korea\"]\n",
    "bottom_5_internet = gdp_and_internet_use_sub[gdp_and_internet_use_sub['Country'].isin(filter_list_3)]\n",
    "print(bottom_5_internet)"
   ]
  },
  {
   "cell_type": "code",
   "execution_count": 72,
   "id": "8e7c4728",
   "metadata": {},
   "outputs": [
    {
     "data": {
      "image/png": "[encoded data removed]",
      "text/plain": [
       "<Figure size 1080x216 with 5 Axes>"
      ]
     },
     "metadata": {
      "needs_background": "light"
     },
     "output_type": "display_data"
    }
   ],
   "source": [
    "graph_2 = sns.FacetGrid(bottom_5_internet, col =\"Country\")\n",
    "_ = graph_2.map(plt.plot, 'Year', 'Internet_Users_Pct')"
   ]
  },
  {
   "cell_type": "markdown",
   "id": "e3fd4aff",
   "metadata": {},
   "source": [
    "Find the top 5 countries for 2014 in terms of GDP per capita; create a DataFrame to look at 10-year trends (use 2004, 2009, 2014 to look at the 10-year trend) in gdp per capita for the 5 countries with the highest 2014 GDP per capita. Use a seaborn facet grid for this."
   ]
  },
  {
   "cell_type": "code",
   "execution_count": 73,
   "id": "94ade0ba",
   "metadata": {},
   "outputs": [
    {
     "name": "stdout",
     "output_type": "stream",
     "text": [
      "               Country  Year  GDP_Per_Capita  Internet_Users_Pct\n",
      "3721  Macao SAR, China  2014   156514.133850                 NaN\n",
      "3691        Luxembourg  2014   108760.916030               94.67\n",
      "5138             Qatar  2014    95578.416973               91.49\n",
      "5464         Singapore  2014    87808.663157               82.00\n",
      "561            Bermuda  2014    77361.104881               96.80\n"
     ]
    }
   ],
   "source": [
    "print(gdp_int_2014.sort_values(by=['GDP_Per_Capita'], ascending=False).head(5))"
   ]
  },
  {
   "cell_type": "code",
   "execution_count": 78,
   "id": "86aa13e0",
   "metadata": {},
   "outputs": [
    {
     "name": "stdout",
     "output_type": "stream",
     "text": [
      "               Country  Year  GDP_Per_Capita  Internet_Users_Pct\n",
      "561            Bermuda  2014    77361.104881           96.800000\n",
      "566            Bermuda  2009    89961.982744           83.250000\n",
      "571            Bermuda  2004    90195.811033           60.990867\n",
      "3691        Luxembourg  2014   108760.916030           94.670000\n",
      "3696        Luxembourg  2009   104932.811953           87.310000\n",
      "3701        Luxembourg  2004   102708.212547           65.880000\n",
      "3721  Macao SAR, China  2014   156514.133850                 NaN\n",
      "3726  Macao SAR, China  2009    95939.340822                 NaN\n",
      "3731  Macao SAR, China  2004    72944.409424                 NaN\n",
      "5138             Qatar  2014    95578.416973           91.490000\n",
      "5143             Qatar  2009    89954.519993           53.100000\n",
      "5148             Qatar  2004    93748.301216           20.701648\n",
      "5464         Singapore  2014    87808.663157           82.000000\n",
      "5469         Singapore  2009    69466.581746           69.000000\n",
      "5474         Singapore  2004    63901.716368           62.000000\n"
     ]
    }
   ],
   "source": [
    "filter_list_4 = ['Luxembourg', 'Qatar', 'Singapore', 'Bermuda', 'Macao SAR, China']\n",
    "top_5_GDP = gdp_and_internet_use_sub[gdp_and_internet_use_sub['Country'].isin(filter_list_4)]\n",
    "print(top_5_GDP)"
   ]
  },
  {
   "cell_type": "code",
   "execution_count": 79,
   "id": "af919353",
   "metadata": {},
   "outputs": [
    {
     "data": {
      "text/plain": [
       "<seaborn.axisgrid.FacetGrid at 0x21b0bc32400>"
      ]
     },
     "execution_count": 79,
     "metadata": {},
     "output_type": "execute_result"
    },
    {
     "data": {
      "image/png": "[encoded data removed]",
      "text/plain": [
       "<Figure size 1080x216 with 5 Axes>"
      ]
     },
     "metadata": {
      "needs_background": "light"
     },
     "output_type": "display_data"
    }
   ],
   "source": [
    "graph_2 = sns.FacetGrid(top_5_GDP, col =\"Country\")\n",
    "graph_2.map(plt.plot, 'Year', 'GDP_Per_Capita')"
   ]
  },
  {
   "cell_type": "markdown",
   "id": "16336596",
   "metadata": {},
   "source": [
    "Repeat this one more time to look at 10-year trend for the 5 countries for 2014 with the lowest GDP per capita."
   ]
  },
  {
   "cell_type": "code",
   "execution_count": 77,
   "id": "efe4fb5e",
   "metadata": {},
   "outputs": [
    {
     "name": "stdout",
     "output_type": "stream",
     "text": [
      "1047    Central African Republic\n",
      "827                      Burundi\n",
      "3781                      Malawi\n",
      "1422             Dem. Rep. Congo\n",
      "4528                       Niger\n",
      "Name: Country, dtype: object\n"
     ]
    }
   ],
   "source": [
    "print(gdp_int_2014.nsmallest(5, 'GDP_Per_Capita')['Country'])"
   ]
  },
  {
   "cell_type": "code",
   "execution_count": 80,
   "id": "627abcf4",
   "metadata": {},
   "outputs": [
    {
     "name": "stdout",
     "output_type": "stream",
     "text": [
      "                       Country  Year  GDP_Per_Capita  Internet_Users_Pct\n",
      "827                    Burundi  2014      886.235777            1.380000\n",
      "832                    Burundi  2009      831.564131            0.900000\n",
      "837                    Burundi  2004      817.460585            0.349060\n",
      "1047  Central African Republic  2014      822.610458                 NaN\n",
      "1052  Central African Republic  2009     1161.189475                 NaN\n",
      "1057  Central African Republic  2004     1037.846766                 NaN\n",
      "1422           Dem. Rep. Congo  2014     1029.790785                 NaN\n",
      "1427           Dem. Rep. Congo  2009      835.611696                 NaN\n",
      "1432           Dem. Rep. Congo  2004      757.685942                 NaN\n",
      "3781                    Malawi  2014     1027.208496            5.830000\n",
      "3786                    Malawi  2009      932.867635            1.070000\n",
      "3791                    Malawi  2004      775.346132            0.347505\n",
      "4528                     Niger  2014     1127.615541            1.950000\n",
      "4533                     Niger  2009      992.409977            0.760000\n",
      "4538                     Niger  2004      929.883920            0.189934\n"
     ]
    }
   ],
   "source": [
    "filter_list_5 = ['Burundi', 'Malawi', 'Niger', 'Dem. Rep. Congo', 'Central African Republic']\n",
    "bottom_5_GDP = gdp_and_internet_use_sub[gdp_and_internet_use_sub['Country'].isin(filter_list_5)]\n",
    "print(bottom_5_GDP)"
   ]
  },
  {
   "cell_type": "code",
   "execution_count": 82,
   "id": "6db4f56f",
   "metadata": {},
   "outputs": [
    {
     "data": {
      "image/png": "[encoded data removed]",
      "text/plain": [
       "<Figure size 1080x216 with 5 Axes>"
      ]
     },
     "metadata": {
      "needs_background": "light"
     },
     "output_type": "display_data"
    }
   ],
   "source": [
    "graph_2 = sns.FacetGrid(bottom_5_GDP, col =\"Country\")\n",
    "graph_2.map(plt.plot, 'Year', 'GDP_Per_Capita');"
   ]
  },
  {
   "cell_type": "markdown",
   "id": "7772f4fb",
   "metadata": {},
   "source": [
    "Is there anything surprising or unusual in any of these plots? Searching on the internet, can you find any possible explanations for unusual findings?\n",
    "\n",
    "There's no internet use data for Timor-Leste in 2004. When I looked it up, it looks like no one there had internet usage until 2005. Apparently when they gained independence from India, india pulled their telecommunications services.\n",
    "\n",
    "GDP in the Cayman Islands decreased from 2009 to 2014.b The only thing I can really find contributing to that is that it is considered an offshore financial centers and when Barack Obama took office, he aimed to cut down on American multinational companies."
   ]
  },
  {
   "cell_type": "markdown",
   "id": "255ec193",
   "metadata": {},
   "source": [
    "Download another data set from the UN data (http://data.un.org/Explorer.aspx) to merge with your data and explore."
   ]
  },
  {
   "cell_type": "code",
   "execution_count": 42,
   "id": "bdd79a31",
   "metadata": {},
   "outputs": [
    {
     "name": "stdout",
     "output_type": "stream",
     "text": [
      "   Country or Area  Year(s)      GENDER  Value  Value Footnotes\n",
      "0      Afghanistan     2012        Male     58              NaN\n",
      "1      Afghanistan     2012      Female     61              NaN\n",
      "2      Afghanistan     2012  Both sexes     60              NaN\n",
      "3      Afghanistan     2000        Male     54              NaN\n",
      "4      Afghanistan     2000      Female     56              NaN\n",
      "5      Afghanistan     2000  Both sexes     55              NaN\n",
      "6      Afghanistan     1990        Male     49              NaN\n",
      "7      Afghanistan     1990      Female     50              NaN\n",
      "8      Afghanistan     1990  Both sexes     49              NaN\n",
      "9          Albania     2012        Male     73              NaN\n",
      "10         Albania     2012      Female     75              NaN\n",
      "11         Albania     2012  Both sexes     74              NaN\n",
      "12         Albania     2000        Male     68              NaN\n",
      "13         Albania     2000      Female     73              NaN\n",
      "14         Albania     2000  Both sexes     70              NaN\n",
      "15         Albania     1990        Male     67              NaN\n",
      "16         Albania     1990      Female     71              NaN\n",
      "17         Albania     1990  Both sexes     69              NaN\n",
      "18         Algeria     2012        Male     70              NaN\n",
      "19         Algeria     2012      Female     73              NaN\n"
     ]
    }
   ],
   "source": [
    "life_exp_df = pd.read_csv('life_exp.csv')\n",
    "print(life_exp_df.head(20))"
   ]
  },
  {
   "cell_type": "code",
   "execution_count": 103,
   "id": "3a57cf76",
   "metadata": {},
   "outputs": [
    {
     "name": "stdout",
     "output_type": "stream",
     "text": [
      "<class 'pandas.core.frame.DataFrame'>\n",
      "RangeIndex: 1746 entries, 0 to 1745\n",
      "Data columns (total 4 columns):\n",
      " #   Column           Non-Null Count  Dtype \n",
      "---  ------           --------------  ----- \n",
      " 0   Country          1746 non-null   object\n",
      " 1   Year             1746 non-null   int64 \n",
      " 2   GENDER           1746 non-null   object\n",
      " 3   Life_Expectancy  1746 non-null   int64 \n",
      "dtypes: int64(2), object(2)\n",
      "memory usage: 54.7+ KB\n"
     ]
    }
   ],
   "source": [
    "life_exp_df.info()"
   ]
  },
  {
   "cell_type": "code",
   "execution_count": 104,
   "id": "e7f29a61",
   "metadata": {},
   "outputs": [
    {
     "name": "stdout",
     "output_type": "stream",
     "text": [
      "<class 'pandas.core.frame.DataFrame'>\n",
      "RangeIndex: 1746 entries, 0 to 1745\n",
      "Data columns (total 4 columns):\n",
      " #   Column           Non-Null Count  Dtype \n",
      "---  ------           --------------  ----- \n",
      " 0   Country          1746 non-null   object\n",
      " 1   Year             1746 non-null   object\n",
      " 2   GENDER           1746 non-null   object\n",
      " 3   Life_Expectancy  1746 non-null   int64 \n",
      "dtypes: int64(1), object(3)\n",
      "memory usage: 54.7+ KB\n"
     ]
    }
   ],
   "source": [
    "life_exp_df['Year']=life_exp_df['Year'].astype(object)\n",
    "life_exp_df.info()"
   ]
  },
  {
   "cell_type": "code",
   "execution_count": 43,
   "id": "aad9bb08",
   "metadata": {},
   "outputs": [
    {
     "name": "stdout",
     "output_type": "stream",
     "text": [
      "     Country or Area  Year(s)      GENDER  Value\n",
      "0        Afghanistan     2012        Male     58\n",
      "1        Afghanistan     2012      Female     61\n",
      "2        Afghanistan     2012  Both sexes     60\n",
      "3        Afghanistan     2000        Male     54\n",
      "4        Afghanistan     2000      Female     56\n",
      "...              ...      ...         ...    ...\n",
      "1741        Zimbabwe     2000      Female     42\n",
      "1742        Zimbabwe     2000  Both sexes     42\n",
      "1743        Zimbabwe     1990        Male     60\n",
      "1744        Zimbabwe     1990      Female     64\n",
      "1745        Zimbabwe     1990  Both sexes     62\n",
      "\n",
      "[1746 rows x 4 columns]\n"
     ]
    }
   ],
   "source": [
    "del life_exp_df['Value Footnotes']\n",
    "print(life_exp_df)"
   ]
  },
  {
   "cell_type": "code",
   "execution_count": 105,
   "id": "de30c386",
   "metadata": {},
   "outputs": [
    {
     "name": "stdout",
     "output_type": "stream",
     "text": [
      "          Country  Year      GENDER  Life_Expectancy\n",
      "0     Afghanistan  2012        Male               58\n",
      "1     Afghanistan  2012      Female               61\n",
      "2     Afghanistan  2012  Both sexes               60\n",
      "3     Afghanistan  2000        Male               54\n",
      "4     Afghanistan  2000      Female               56\n",
      "...           ...   ...         ...              ...\n",
      "1741     Zimbabwe  2000      Female               42\n",
      "1742     Zimbabwe  2000  Both sexes               42\n",
      "1743     Zimbabwe  1990        Male               60\n",
      "1744     Zimbabwe  1990      Female               64\n",
      "1745     Zimbabwe  1990  Both sexes               62\n",
      "\n",
      "[1746 rows x 4 columns]\n"
     ]
    }
   ],
   "source": [
    "life_exp_df.rename(columns={'Value': 'Life_Expectancy', 'Country or Area': 'Country', 'Years(s)': 'Year'}, inplace=True)\n",
    "life_exp_df.rename(columns={'Year(s)': 'Year'}, inplace=True)\n",
    "print(life_exp_df)"
   ]
  },
  {
   "cell_type": "code",
   "execution_count": 106,
   "id": "e7682aef",
   "metadata": {},
   "outputs": [
    {
     "name": "stdout",
     "output_type": "stream",
     "text": [
      "          Country  Year      GENDER  Life_Expectancy\n",
      "2     Afghanistan  2012  Both sexes               60\n",
      "5     Afghanistan  2000  Both sexes               55\n",
      "8     Afghanistan  1990  Both sexes               49\n",
      "11        Albania  2012  Both sexes               74\n",
      "14        Albania  2000  Both sexes               70\n",
      "...           ...   ...         ...              ...\n",
      "1733       Zambia  2000  Both sexes               41\n",
      "1736       Zambia  1990  Both sexes               43\n",
      "1739     Zimbabwe  2012  Both sexes               58\n",
      "1742     Zimbabwe  2000  Both sexes               42\n",
      "1745     Zimbabwe  1990  Both sexes               62\n",
      "\n",
      "[582 rows x 4 columns]\n"
     ]
    }
   ],
   "source": [
    "filter_list_6 = ['Both sexes']\n",
    "life_exp_all = life_exp_df[life_exp_df['GENDER'].isin(filter_list_6)]\n",
    "print(life_exp_all)"
   ]
  },
  {
   "cell_type": "code",
   "execution_count": 107,
   "id": "9f31d508",
   "metadata": {},
   "outputs": [
    {
     "name": "stdout",
     "output_type": "stream",
     "text": [
      "<class 'pandas.core.frame.DataFrame'>\n",
      "Int64Index: 582 entries, 2 to 1745\n",
      "Data columns (total 4 columns):\n",
      " #   Column           Non-Null Count  Dtype \n",
      "---  ------           --------------  ----- \n",
      " 0   Country          582 non-null    object\n",
      " 1   Year             582 non-null    object\n",
      " 2   GENDER           582 non-null    object\n",
      " 3   Life_Expectancy  582 non-null    int64 \n",
      "dtypes: int64(1), object(3)\n",
      "memory usage: 22.7+ KB\n"
     ]
    }
   ],
   "source": [
    "life_exp_all.info()"
   ]
  },
  {
   "cell_type": "code",
   "execution_count": 145,
   "id": "bff661a8",
   "metadata": {},
   "outputs": [
    {
     "name": "stdout",
     "output_type": "stream",
     "text": [
      "Empty DataFrame\n",
      "Columns: [Country_x, Year, GDP_Per_Capita, Internet_Users_Pct, Country_y, GENDER, Life_Expectancy]\n",
      "Index: []\n"
     ]
    }
   ],
   "source": [
    "gdp_and_internet_use.reset_index(drop=True, inplace=True)\n",
    "life_exp_all.reset_index(drop=True, inplace=True)\n",
    "gdp_internet_life_exp = pd.merge(gdp_and_internet_use, life_exp_all, on='Year')\n",
    "print(gdp_internet_life_exp)"
   ]
  }
 ],
 "metadata": {
  "kernelspec": {
   "display_name": "Python 3",
   "language": "python",
   "name": "python3"
  },
  "language_info": {
   "codemirror_mode": {
    "name": "ipython",
    "version": 3
   },
   "file_extension": ".py",
   "mimetype": "text/x-python",
   "name": "python",
   "nbconvert_exporter": "python",
   "pygments_lexer": "ipython3",
   "version": "3.8.8"
  }
 },
 "nbformat": 4,
 "nbformat_minor": 5
}
